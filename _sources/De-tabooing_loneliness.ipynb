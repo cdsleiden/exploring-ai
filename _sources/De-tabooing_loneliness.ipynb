{
 "cells": [
  {
   "cell_type": "markdown",
   "id": "282f88ae",
   "metadata": {},
   "source": [
    "## De-tabooing loneliness"
   ]
  },
  {
   "cell_type": "code",
   "execution_count": 1,
   "id": "3309c602",
   "metadata": {},
   "outputs": [],
   "source": [
    "import json\n",
    "from datetime import datetime\n",
    "import re\n",
    "from collections import Counter\n",
    "import matplotlib.pyplot as plt\n",
    "import seaborn as sns\n",
    "import nltk\n",
    "from nltk import word_tokenize"
   ]
  },
  {
   "cell_type": "code",
   "execution_count": 2,
   "id": "b5e66d5a",
   "metadata": {},
   "outputs": [],
   "source": [
    "file_name = 'articles_loneliness.json'"
   ]
  },
  {
   "cell_type": "code",
   "execution_count": 3,
   "id": "03e48679",
   "metadata": {},
   "outputs": [
    {
     "name": "stdout",
     "output_type": "stream",
     "text": [
      "The file contains metadata about 9091 publications.\n"
     ]
    }
   ],
   "source": [
    "json_file = open(file_name)\n",
    "json_data = json.load(json_file)\n",
    "\n",
    "print(f'The file contains metadata about {len(json_data)} publications.')"
   ]
  },
  {
   "cell_type": "markdown",
   "id": "da1f3e32",
   "metadata": {},
   "source": [
    "## Number of publications per year"
   ]
  },
  {
   "cell_type": "code",
   "execution_count": 4,
   "id": "9d99cd4b",
   "metadata": {},
   "outputs": [],
   "source": [
    "dates = []\n",
    "\n",
    "for record in json_data:\n",
    "\n",
    "    if re.search(r'\\d{4}-\\d{1,2}-\\d{1,2}',record['date']):\n",
    "        year = datetime.strptime(record['date'], '%Y-%m-%d').year\n",
    "    elif re.search(r'\\d{4}-\\d{1,2}',record['date']):\n",
    "        year = datetime.strptime(record['date'], '%Y-%m').year\n",
    "    elif re.search(r'\\d{4}',record['date']):\n",
    "        year = datetime.strptime(record['date'], '%Y').year\n",
    "          \n",
    "    if year>2000 and year<2024:\n",
    "        dates.append(year)\n",
    "\n",
    "    "
   ]
  },
  {
   "cell_type": "code",
   "execution_count": 5,
   "id": "b125a2fb",
   "metadata": {},
   "outputs": [],
   "source": [
    "dates_counter = Counter(dates)\n",
    "x_axis = []\n",
    "y_axis = []\n",
    "\n",
    "for year in sorted(dates_counter.keys()):\n",
    "    x_axis.append(str(year))\n",
    "    y_axis.append(dates_counter.get(year))\n",
    "    "
   ]
  },
  {
   "cell_type": "code",
   "execution_count": 6,
   "id": "a936cf13",
   "metadata": {},
   "outputs": [
    {
     "data": {
      "image/png": "[encoded data removed]",
      "text/plain": [
       "<Figure size 864x360 with 1 Axes>"
      ]
     },
     "metadata": {
      "needs_background": "light"
     },
     "output_type": "display_data"
    }
   ],
   "source": [
    "fig = plt.figure( figsize = ( 12, 5))\n",
    "ax = sns.lineplot( x= x_axis, y=y_axis, \n",
    "                  color= '#AA6799', linestyle='solid',linewidth=2 )\n",
    "plt.xticks(rotation= 80)\n",
    "plt.show()"
   ]
  },
  {
   "cell_type": "markdown",
   "id": "d8e71d16",
   "metadata": {},
   "source": [
    "# Analysis of differences per discipline"
   ]
  },
  {
   "cell_type": "code",
   "execution_count": 7,
   "id": "de151d51",
   "metadata": {},
   "outputs": [],
   "source": [
    "subjects = []\n",
    "journals = []\n",
    "\n",
    "for record in json_data:\n",
    "\n",
    "    if 'subject' in record:\n",
    "        print('yes')\n",
    "        subjects.extend(record['subject'])\n",
    "        \n",
    "    if 'journal' in record:\n",
    "        journals.extend(record['journal'])\n",
    "        \n",
    "subjects_counter = Counter(subjects)\n",
    "journals_counter = Counter(journals)"
   ]
  },
  {
   "cell_type": "code",
   "execution_count": 8,
   "id": "863eb2c0",
   "metadata": {},
   "outputs": [],
   "source": [
    "words_freq = Counter()\n",
    "for journal_title in journals_counter:\n",
    "    words = word_tokenize(journal_title.lower())\n",
    "    words_freq.update(words)"
   ]
  },
  {
   "cell_type": "code",
   "execution_count": null,
   "id": "4e1b66f4",
   "metadata": {},
   "outputs": [],
   "source": []
  }
 ],
 "metadata": {
  "kernelspec": {
   "display_name": "Python 3 (ipykernel)",
   "language": "python",
   "name": "python3"
  },
  "language_info": {
   "codemirror_mode": {
    "name": "ipython",
    "version": 3
   },
   "file_extension": ".py",
   "mimetype": "text/x-python",
   "name": "python",
   "nbconvert_exporter": "python",
   "pygments_lexer": "ipython3",
   "version": "3.7.9"
  }
 },
 "nbformat": 4,
 "nbformat_minor": 5
}
