{
 "cells": [
  {
   "cell_type": "markdown",
   "id": "d4c6b392",
   "metadata": {},
   "source": [
    "# Module 1: Basic Principles\n",
    "\n",
    "\n",
    "***Level: Beginner (100)***\n",
    "\n",
    "\n",
    "Learning objectives: \n",
    "\n",
    "- Introduction to the basic principles of Linked Open Data (LOD)  \n",
    "- Developing an understanding of how LOD is applied within heritage institutions \n",
    "\n",
    " \n",
    "## Introduction\n",
    "\n",
    "Galleries, libraries, archives and museum collections hold valuable insights into the past. Yet for writing historical accounts, one is still dependent on accessing each institution separately. What if we could explore the past by searching through all these institutional collections at the same time? This would not only simplify the work of historians and researchers in general, but it could also allow asking more complex questions. To be able to integrate information across different institutions, this data needs to be shared and connected on the Web, while still being searchable by machines to index and retrieve information. Here, the Semantic Web offers essential solutions.  \n",
    "\n",
    " \n",
    "## ResearchSpace \n",
    "\n",
    "In 2009 the British Museum initiated ResearchSpace to connect to the various museum collections in London using Linked Open Data. Their introductory video explains how this can give us new knowledge about the past and how historical narratives may evolve: "
   ]
  },
  {
   "cell_type": "code",
   "execution_count": 2,
   "id": "9bd8bc04",
   "metadata": {},
   "outputs": [
    {
     "data": {
      "text/html": [
       "\n",
       "        <iframe\n",
       "            width=\"640\"\n",
       "            height=\"360\"\n",
       "            src=\"https://player.vimeo.com/video/540172221?h=51d3108111\"\n",
       "            frameborder=\"0\"\n",
       "            allowfullscreen\n",
       "        ></iframe>\n",
       "        "
      ],
      "text/plain": [
       "<IPython.lib.display.IFrame at 0x7f8b7035b8d0>"
      ]
     },
     "metadata": {},
     "output_type": "display_data"
    }
   ],
   "source": [
    "from IPython.display import IFrame\n",
    "from IPython.core.display import display\n",
    "display(IFrame('https://player.vimeo.com/video/540172221?h=51d3108111' , width = 640 , height = 360 ))       "
   ]
  },
  {
   "cell_type": "markdown",
   "id": "3e966bfd",
   "metadata": {},
   "source": [
    "\n",
    "The general vision behind the Semantic Web is to make the Web more accessible to computers. While humans are able to read texts, the computer needs machine readable data that is structured and interlinked. Although that data in itself is nothing more than bits and bytes of information, when it is analyzed and interpreted it can give valuable information, new insights and it can support humans taking informed decisions.  \n",
    "\n"
   ]
  },
  {
   "cell_type": "markdown",
   "id": "f3fb2ff6",
   "metadata": {},
   "source": [
    "The nature of the Web is that information is distributed. In this global information sharing system, everyone is allowed to contribute by uploading information or adding webpages. Like this the Web is growing on an astonishing scale and every person with a computer or smart phone can access this information. We are living in the greatest information revolution, never before did people have access to these amounts of information. This same weblike nature is also part of the Semantic Web, every party can independently publish datasets on the Web, another party can annotate, create links between datasets or analyse and use it. The full Semantic Web vision is still not materialized, but many are contributing, including galleries, museums, libraries and archives.  \n",
    " "
   ]
  },
  {
   "cell_type": "markdown",
   "id": "0d5bbd3e",
   "metadata": {},
   "source": [
    "> ## Wolfram Alpha \n",
    "> \n",
    "> Linked Open Data gives the opportunity to improve indexing and retrieving information on the Web. For example,  the search engine [Wolfram Alpha](https://www.wolframalpha.com/) is no longer searching the Web but makes information accessible through > computations. \n",
    "\n",
    "The technology underpinning the Semantic Web is called Linked Data. One of its inventors is Tim Berners Lee and in this video he will explain how he wants to reframe the Web from a global file system (the Web of documents) to a global database (the Web of data): \n",
    " "
   ]
  },
  {
   "cell_type": "code",
   "execution_count": 3,
   "id": "900c5d40",
   "metadata": {},
   "outputs": [
    {
     "data": {
      "text/html": [
       "\n",
       "        <iframe\n",
       "            width=\"640\"\n",
       "            height=\"360\"\n",
       "            src=\"https://video.leidenuniv.nl/embed/secure/iframe/entryId/1_rckqw53w/uiConfId/44110401/st/0 \"\n",
       "            frameborder=\"0\"\n",
       "            allowfullscreen\n",
       "        ></iframe>\n",
       "        "
      ],
      "text/plain": [
       "<IPython.lib.display.IFrame at 0x7f8b8021b090>"
      ]
     },
     "metadata": {},
     "output_type": "display_data"
    }
   ],
   "source": [
    "display(IFrame('https://video.leidenuniv.nl/embed/secure/iframe/entryId/1_rckqw53w/uiConfId/44110401/st/0 ' , width = 640 , height = 360 )) "
   ]
  },
  {
   "cell_type": "markdown",
   "id": "7dcda093",
   "metadata": {},
   "source": [
    " ## From HTML to XML \n",
    "\n",
    " \n",
    "For understanding the basic principles of the Semantic Web, it is good to unravel the layered approach that was taken to build it. The first essential step is to make (semi-)structured data available on the Web. Currently, the predominant language on the Web is HTML. Although most web pages are still written in HTML, machines will encounter problems while reading this web content. For example: \n",
    " "
   ]
  },
  {
   "cell_type": "markdown",
   "id": "77e09ef2",
   "metadata": {},
   "source": [
    "    Rembrandt van Rijn \n",
    "    Self-portrait \n",
    "    c. 1628 \n",
    "    oil on panel \n",
    "    height 22.6 cm × width 18.7 cm  "
   ]
  },
  {
   "cell_type": "markdown",
   "id": "127c8d6a",
   "metadata": {},
   "source": [
    "While humans are able to understand that this information is about an artwork, a keyword-based search engine will not be able to identify the title of the artwork or the year in which it was made. For the semantic Web approach, it is important to format this information in another way: \n",
    "\n",
    " \n",
    "```\n",
    "<artist>Rembrandt van Rijn </artist> \n",
    "<title>Self-portrait </title> \n",
    "<year>c. 1628 </year> \n",
    "<medium>oil on panel </medium> \n",
    "<height>22.6 cm </height > × <width> 18.7 cm </width> \n",
    "```\n",
    " \n",
    "Now the computer is able to distinguish the artist, the title and the year of this artwork. This representation is more easily processable by machines and also known as eXtensible Markup Language (XML) technology. In contrast to HTML, XML language allows structuring information on web pages. Yet structuring information is not enough to make the Web semantic, therefore we also need a language that is able to describe meaning.  \n",
    " \n",
    "\n",
    "## The RDF data model \n",
    "  \n",
    "\n",
    "How can the meaning then be described, in an accurate way so that machines are able to process this? To  capture the intended semantics of the data, it is essential to have a knowledge representation system and ontologies. The philosophical discipline of ontology is the study of what exists and what are the relationships between the entities that exist. Classifying entities and discerning part-whole relations gives us a systematic way to organize knowledge and grasp the reality surrounding us. The Linnaean taxonomy, for example, as proposed in the *Systema Naturae* (1735) tried to organize the natural world systematically into kingdoms (the Animal, Vegetable and Mineral Kingdoms), classes, orders and genera, and eventually this system was used to classify the individual species. Such a classification system increases our understanding of singular entities, such as ‘a cat is a mammal’, or ‘Covid is a virus disease’, and ‘red is a color’. \n",
    "\n",
    "For the Web to be semantic, it needs ontologies to provide a shared understanding of a domain. Over time better organized taxonomies were created and especially in our age of information explosion more complex and flexible classifications are reached. The ontologies used for the Web are non-hierarchical, it aims to represent the fluidity of the real world, where things can be related to each other in more complex ways and without being fixed. Things can endlessly be grouped in new ways, in that sense the structure of a Linked Data ontology is more like a spider’s web. \n",
    "\n",
    "![interface.jpg](../_static/interface.jpg)\n",
    "\n",
    "\n",
    "On the Semantic Web, the RDF data model is used as a knowledge representation. The fundamental concepts of RDF are resources, properties, statements and graphs. \n",
    "\n",
    " \n",
    "## Resources \n",
    "\n",
    "Resources can be many things, from people to places, from plants to machines, everything can be a resource. On the Semantic Web, each resource has a URI (Uniform Resource Locator, or web address) that allows an unambiguous identification of that particular ‘thing’.  \n",
    "\n",
    " \n",
    "For instance, we are searching for a particular person, let’s say Jack Straw. The unique identifier given to that person is a number comparable with a telephone number, it is a specific number through which you can find that person. However, Jack Straw is both the name of a fourteenth-century English rebel and a UK cabinet minister prominent in Tony Blair’s administration. \n",
    "\n",
    "It is clearly useful to be able to differentiate the two people who share a common name, so each person is represented by a unique number. With this in mind, let’s make the UK minister Jack Straw number 64183282, and Jack Straw described as ‘the enigmatic rebel leader’ number 33059614. Provided that everyone uses these two numbers to refer to the respective Jack Straws, we can now search for person 64183282 in a linked open dataset and can be confident that we are getting the right person, in this case, the minister. \n",
    "  \n",
    "Jack Straw the modern politician was a member of the British Parliament, representing the seat of Blackburn. There’s more than one place in the UK called Blackburn, not to mention other Blackburns around the world. Using the same principles as outlined above, we can disambiguate between the various Blackburns by assigning a unique identifier to the correct place: Blackburn in Lancashire, England. \n",
    "\n",
    "At first sight, this may look similar to a library system, but there is a crucial difference. Around the world there are many libraries, each with their own database and each assigning their own identifiers to the person ‘Jack Straw’, for instance. So the number ‘330596140’ in a library system no longer identifies unique individuals outside of that particular database. In contrast, URI references are designed to be unique across the Web. \n"
   ]
  },
  {
   "cell_type": "code",
   "execution_count": 5,
   "id": "613cb072",
   "metadata": {},
   "outputs": [
    {
     "data": {
      "text/html": [
       "\n",
       "        <iframe\n",
       "            width=\"640\"\n",
       "            height=\"360\"\n",
       "            src=\"https://video.leidenuniv.nl/embed/secure/iframe/entryId/1_cse3wkxj/uiConfId/44110401/st/0\"\n",
       "            frameborder=\"0\"\n",
       "            allowfullscreen\n",
       "        ></iframe>\n",
       "        "
      ],
      "text/plain": [
       "<IPython.lib.display.IFrame at 0x7f8b8021c690>"
      ]
     },
     "metadata": {},
     "output_type": "display_data"
    }
   ],
   "source": [
    "display(IFrame('https://video.leidenuniv.nl/embed/secure/iframe/entryId/1_cse3wkxj/uiConfId/44110401/st/0' , width = 640 , height = 360 )) "
   ]
  },
  {
   "cell_type": "markdown",
   "id": "84395993",
   "metadata": {},
   "source": [
    "Therefore, URIs are recorded in so-called authority files, such as the VIAF authority file. In the video above, the VIAF ID number ‘33059614’ is used as a search term to find Jack Straw in various libraries around the world. While all describe this person slightly differently, they all mean the same person. Under the VIAF ID, there is a permalink, that’s the URI. HTTP URIs make it possible for people (as well as machines) to find concepts and identify that all these “Jack Straws” are the same person.  \n",
    " \n",
    " "
   ]
  },
  {
   "attachments": {},
   "cell_type": "markdown",
   "id": "f6e4bf09",
   "metadata": {},
   "source": [
    "## Properties \n",
    "\n",
    "Properties are a specific type of resource that is describing the relationships between the other resources, for example “painted by”, “located in”, “collected by”, etc. Like all resources, also properties are identified by URI’s. Properties are essential for building relationships between two data elements, this expression we call a statement.  \n",
    " \n",
    " \n",
    "## Statements  \n",
    "\n",
    "A statement consists of a subject, a predicate and an object. This may be best understood by an example of graphical representation of a RDF statement: \n",
    "\n",
    "![statement](https://github.com/unloch/lod/raw/gh-pages/_static/triple_statement.jpg)\n"
   ]
  },
  {
   "cell_type": "markdown",
   "id": "1b441245",
   "metadata": {},
   "source": [
    "\n",
    " \n",
    "On the left, we see 1) the subject (‘Mona Lisa’), followed by 2) the predicate (‘created by’) and 3) the object (‘Leonardo da Vinci’). As a statement is always consisting of three components, it is also referred to as a triple.  "
   ]
  },
  {
   "attachments": {},
   "cell_type": "markdown",
   "id": "6068d495",
   "metadata": {},
   "source": [
    " \n",
    " \n",
    "## Graphs \n",
    "\n",
    "The triple in RDF is essential to be able to form networks of information. RDF is a graph-centred data model, that like the web is consisting of nodes and edges. When expanding on the statement as mentioned above, it becomes clear how this is leading to a graph: \n",
    "\n",
    "\n",
    "![graph](https://github.com/unloch/lod/raw/gh-pages/_static/triples_graph.jpg)\n",
    "\n",
    "\n",
    "RDF can lead to graph-structured data that can take any shape and that can continue to grow. \n",
    " \n",
    "\n",
    "> ***Late Hokusai***  \n",
    "Between 2016 and 2019, the British Museum and SOAS (University of London) used Linked Open Data to create an online resource about the Japanese artist Katsushika Hokusai (1760-1849). For this, they brought together material from various collections within a network of information and everyone is invited to further explore this information through the creation of knowledge graphs (for more information, [click here](https://latehokusai.researchspace.org/resource/rsp:Start)).  \n",
    "\n",
    " "
   ]
  },
  {
   "cell_type": "markdown",
   "id": "e9d10045",
   "metadata": {},
   "source": [
    " \n",
    "\n",
    "## Vocabularies \n",
    " \n",
    "While RDF is an universal language, it does not describe all domain specific meanings. \n",
    "\n",
    "For example, RDF doesn’t allow a standard vocabulary to describe the metadata for an artwork or a book. In such cases, more detailed ontology languages that expand RDF Schema are needed, to represent more complex relationships between web objects and how they link to each other. This can be found in vocabularies, like Dublin Core (mostly used in libraries and archives), CIDOC CRM (for heritage documentation) or Schema.org (founded by Google, Microsoft, Yahoo and Yandex, and expanded by Web communities). \n",
    "\n",
    " \n",
    "> ***CIDOC CRM***\n",
    "For heritage institutions to be able to connect their data, it is essential that they use the same formal language to describe concepts and relationships. For the documentation of cultural heritage,  CIDOC CRM is serving as a foundation for how to describe heritage information across museums, libraries and archives. They offer so to say a shared semantic infrastructure. The latest version of the CIDOC-CRM vocabulary can be found on their website ([click here](https://www.cidoc-crm.org/)). \n"
   ]
  },
  {
   "cell_type": "markdown",
   "id": "b2c7f329",
   "metadata": {},
   "source": [
    " \n",
    "## Summary \n",
    "\n",
    " \n",
    "Linked data gives us a set of best practices to publish data on the Web. This technology is built through a layered approach with the following basic principles: \n",
    "\n",
    "- Concepts get a Unique identifier. \n",
    "- The data is modeled according to RDF that can be viewed as a primitive language for writing ontologies.  \n",
    "- To make it possible to exchange data across the Web, it is important to use standard concepts and relationships as described within vocabularies. \n",
    "\n",
    " \n",
    "If you like to learn more about LOD vocabularies and publishing LOD on the Web, you can go to module 2.\n",
    "\n",
    " "
   ]
  },
  {
   "cell_type": "markdown",
   "id": "7d4937dd",
   "metadata": {},
   "source": [
    "# Exercises\n",
    "\n",
    "## Exercise 1.1.\n",
    "\n",
    "Within the forum (or on a Google doc), post a description of a person (e.g. an artist, scholar or author) using triples:  \n",
    "\n",
    "- Use angular brackets ('&lt;' and '&gt;') to enclose resources (things). \n",
    "- Use quotes ('&quot;') to enclose values. \n",
    "- Close triple expressions with a full stop ('.') \n",
    "\n",
    " \n",
    "For example: \n",
    "```<Johannes Gutenberg> <is a> <person> .  \n",
    "<Johannes Gutenberg> <was born in> <Mainz> .  \n",
    "<Johannes Gutenberg> <studied at>  <University of Erfurt> . \n",
    "<Johannes Gutenberg> <printer of> <Biblia Latina> . \n",
    "```\n",
    "\n",
    " ## Exercise 1.2. \n",
    "\n",
    "Create a URI for the person that you selected. To find your URI, go to Wikidata and search for your artist or author.  The URI is the domain name starting with https://www.wikidata.org/wiki followed by a Q-ID (the unique identifier of a data item on Wikidata, comprising the letter \"Q\" followed by one or more digits). \n",
    "Replace the &lt;subject&gt; in your triples with your &lt;uri&gt;. \n",
    "\n",
    " \n",
    "For example: \n",
    "    \n",
    "```\n",
    "<http://www.wikidata.org/wiki/Q8958> <is a> <person> .  \n",
    "<http://www.wikidata.org/wiki/Q8958> <was born in> <Mainz> .  \n",
    "<http://www.wikidata.org/wiki/Q8958> <studied at>  <University of Erfurt> . \n",
    "<http://www.wikidata.org/wiki/Q8958> <printer of> <Biblia Latina> . \n",
    "```\n",
    "\n",
    "## Exercise 1.3. \n",
    "\n",
    "Add Namespaces. URIs can be unpractically long, we can abbreviate them using namespaces. Replace the URIs in your triples with namespaces. \n",
    "\n",
    " \n",
    "For example:  \n",
    "```\n",
    "<http://www.wikidata.org/wiki/Q8958>  \n",
    "```\n",
    "\n",
    "```    \n",
    "@prefix wd:  \n",
    "<http://www.wikidata.org/entity> . \n",
    "Shortened URI: \n",
    "wd:Q8958 \n",
    "```\n"
   ]
  },
  {
   "cell_type": "markdown",
   "id": "1d0366ab",
   "metadata": {},
   "source": [
    "## Exercise 1.4. \n",
    "\n",
    "Return to your post in the forum and replace predicates with schema.org properties. \n",
    "\n",
    "- Go to the Schema vocabulary. \n",
    "- Replace the predicates in your triples with properties defined in [schema.org](https://schema.org/). \n",
    "- Start at [schema.org/person](https://schema.org/person) \n",
    "\n",
    " \n",
    "\n",
    "For example:  \n",
    "\n",
    "```\n",
    "<wd:Q8958> <rdfs:type> <person> .  \n",
    "<wd:Q8958> <http://schema.org/birthplace> 'Mainz' .  \n",
    "<wd:Q8958> <http://schema.org/alumniOf> 'University of Erfurt' . \n",
    "```\n",
    " "
   ]
  },
  {
   "cell_type": "code",
   "execution_count": null,
   "id": "880bb292",
   "metadata": {},
   "outputs": [],
   "source": []
  }
 ],
 "metadata": {
  "kernelspec": {
   "display_name": "Python 3 (ipykernel)",
   "language": "python",
   "name": "python3"
  },
  "language_info": {
   "codemirror_mode": {
    "name": "ipython",
    "version": 3
   },
   "file_extension": ".py",
   "mimetype": "text/x-python",
   "name": "python",
   "nbconvert_exporter": "python",
   "pygments_lexer": "ipython3",
   "version": "3.7.9"
  }
 },
 "nbformat": 4,
 "nbformat_minor": 5
}
