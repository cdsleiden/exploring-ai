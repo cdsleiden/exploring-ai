{
 "cells": [
  {
   "cell_type": "markdown",
   "id": "e59efb4d",
   "metadata": {},
   "source": [
    "# Goodsreads reviews"
   ]
  },
  {
   "cell_type": "code",
   "execution_count": 1,
   "id": "c868aa4b",
   "metadata": {},
   "outputs": [],
   "source": [
    "import pandas as pd\n",
    "import os\n",
    "from os.path import join\n",
    "import stanza\n",
    "import re\n",
    "from nltk import sent_tokenize\n",
    "from collections import Counter\n",
    "from langdetect import detect\n",
    "import pandas as pd\n",
    "import nltk\n",
    "from nltk import word_tokenize,pos_tag\n",
    "import matplotlib.pyplot as plt\n",
    "import seaborn as sns\n",
    "\n",
    "def remove_punctuation(words):\n",
    "    new_list= []\n",
    "    for w in words:\n",
    "        if w.isalnum():\n",
    "            new_list.append( w )\n",
    "    return new_list\n",
    "\n",
    "def sortedByValue( dict , ascending = True ):\n",
    "    if ascending: \n",
    "        return {k: v for k, v in sorted(dict.items(), key=lambda item: item[1])}\n",
    "    else:\n",
    "        return {k: v for k, v in reversed( sorted(dict.items(), key=lambda item: item[1]))}"
   ]
  },
  {
   "cell_type": "markdown",
   "id": "1a4638a2",
   "metadata": {},
   "source": [
    "This notebook analyses reviews of books which were on the New York Times bestsellers lists in 2015. "
   ]
  },
  {
   "cell_type": "code",
   "execution_count": 2,
   "id": "203a362c",
   "metadata": {},
   "outputs": [],
   "source": [
    "df = pd.read_csv('nyt_isbn.csv')"
   ]
  },
  {
   "cell_type": "code",
   "execution_count": 3,
   "id": "61028c1f",
   "metadata": {},
   "outputs": [],
   "source": [
    "dir = 'GR'\n",
    "reviews =os.listdir(dir)\n",
    "reviews = [file for file in reviews if re.search(r'txt$',file)]"
   ]
  },
  {
   "cell_type": "markdown",
   "id": "1774ea9f",
   "metadata": {},
   "source": [
    "Reviews in langauges other than English are left out of consideration. "
   ]
  },
  {
   "cell_type": "code",
   "execution_count": 4,
   "id": "edd53ef5",
   "metadata": {},
   "outputs": [],
   "source": [
    "count_m = 0\n",
    "count_f = 0\n",
    "\n",
    "other_languages = open('other_languages.txt','w',encoding='utf-8')\n",
    "\n",
    "for i,row in df.iterrows():\n",
    "    isbn = int(row['isbn'])\n",
    "    path = join(dir,f'{isbn}.txt')\n",
    "\n",
    "    if os.path.isfile(path):\n",
    "        gender = row['gender']\n",
    "        review_file = open(path,encoding='utf-8')\n",
    "        new_path = join(dir,gender.strip(),f'{isbn}.txt')\n",
    "        out = open(new_path,'w',encoding='utf-8')\n",
    "        for review in review_file:\n",
    "\n",
    "            if len(review.strip())>0:\n",
    "                try:\n",
    "                    if detect(review)=='en':\n",
    "                        out.write(review)\n",
    "                    else:\n",
    "                        other_languages.write('-- Review in language other than English--\\n')\n",
    "                        other_languages.write(f'{review}\\n\\n')\n",
    "                except:\n",
    "                    other_languages.write('-- Language could not be detected --\\n')\n",
    "                    other_languages.write(f'{review}\\n\\n')\n",
    "\n",
    "other_languages.close()"
   ]
  },
  {
   "cell_type": "markdown",
   "id": "3173634a",
   "metadata": {},
   "source": [
    "<a href=\"other_languages.txt\">Reviews in languages other than English</a>"
   ]
  },
  {
   "cell_type": "markdown",
   "id": "fc08cc5c",
   "metadata": {},
   "source": [
    "## Part of speech tagging"
   ]
  },
  {
   "cell_type": "markdown",
   "id": "bbadcc9d",
   "metadata": {},
   "source": [
    "What are the most common adjectives and adverbs in reviews of books written by male authors?"
   ]
  },
  {
   "cell_type": "code",
   "execution_count": 5,
   "id": "976fe5c7",
   "metadata": {},
   "outputs": [
    {
     "name": "stdout",
     "output_type": "stream",
     "text": [
      "more 4028\n",
      "just 3665\n",
      "really 2603\n",
      "much 2456\n",
      "very 2436\n",
      "good 2307\n",
      "even 2295\n",
      "first 2282\n",
      "also 2232\n",
      "other 2067\n",
      "well 1914\n",
      "only 1818\n",
      "many 1757\n",
      "new 1697\n",
      "still 1662\n",
      "then 1649\n",
      "most 1642\n",
      "too 1611\n",
      "now 1536\n",
      "great 1510\n",
      "never 1413\n",
      "as 1376\n",
      "here 1353\n",
      "little 1334\n",
      "s 1306\n",
      "back 1264\n",
      "always 1171\n",
      "last 1078\n",
      "best 1072\n",
      "again 987\n"
     ]
    }
   ],
   "source": [
    "pos_data = []\n",
    "stopwords = ['i','not','so']\n",
    "\n",
    "import nltk\n",
    "from nltk import word_tokenize,pos_tag\n",
    "\n",
    "freq_M = Counter()\n",
    "freq_tags = Counter()\n",
    "\n",
    "path = join(dir,'M')\n",
    "\n",
    "reviews = os.listdir(path)\n",
    "reviews = [file for file in reviews if re.search(r'txt$',file)]\n",
    "\n",
    "\n",
    "for review in reviews:\n",
    "    \n",
    "    nr_modal = 0\n",
    "    nr_comparative = 0\n",
    "    vbp = 0\n",
    "    vbz = 0\n",
    "\n",
    "\n",
    "    full_text = ''\n",
    "    with open(join(path,review)) as fh:\n",
    "        full_text = fh.read().lower()\n",
    "\n",
    "        words = word_tokenize(full_text)\n",
    "        words = remove_punctuation(words)\n",
    "        words = [word for word in words if word not in stopwords]\n",
    "        pos = pos_tag(words)\n",
    "        \n",
    "        words = []\n",
    "        \n",
    "        tags = []\n",
    "        for p in pos:\n",
    "            tags.append(p[1])\n",
    "\n",
    "            if re.search(r'^JJ',p[1]) or re.search(r'^RB',p[1]):\n",
    "                words.append(p[0])\n",
    "                \n",
    "        freq_tags = Counter(tags)\n",
    "\n",
    "        freq_M.update(words)\n",
    "        row = []\n",
    "        row.append(freq_tags.get('MD',0))\n",
    "        row.append(freq_tags.get('JJR',0)+freq_tags.get('RBR',0))\n",
    "        row.append(freq_tags.get('VBP',0))\n",
    "        row.append(freq_tags.get('VBZ',0))\n",
    "        row.append('M')\n",
    "        pos_data.append(row)\n",
    "        \n",
    "\n",
    "for word,count in freq_M.most_common(30):\n",
    "    print(word,count)"
   ]
  },
  {
   "cell_type": "markdown",
   "id": "75b15b69",
   "metadata": {},
   "source": [
    "What are the most common adjectives and adverbs in reviews of books written by female authors?"
   ]
  },
  {
   "cell_type": "code",
   "execution_count": 6,
   "id": "2343f4ec",
   "metadata": {},
   "outputs": [
    {
     "name": "stdout",
     "output_type": "stream",
     "text": [
      "more 2583\n",
      "just 2530\n",
      "really 1896\n",
      "very 1756\n",
      "much 1711\n",
      "first 1561\n",
      "even 1528\n",
      "also 1520\n",
      "good 1436\n",
      "other 1419\n",
      "many 1334\n",
      "well 1212\n",
      "only 1180\n",
      "too 1143\n",
      "never 1137\n",
      "most 1112\n",
      "then 1081\n",
      "new 1057\n",
      "now 947\n",
      "little 946\n",
      "still 925\n",
      "great 904\n",
      "always 860\n",
      "s 851\n",
      "back 836\n",
      "as 829\n",
      "own 824\n",
      "here 724\n",
      "different 663\n",
      "best 663\n"
     ]
    }
   ],
   "source": [
    "freq_F = Counter()\n",
    "\n",
    "\n",
    "path = join(dir,'F')\n",
    "\n",
    "reviews = os.listdir(path)\n",
    "reviews = [file for file in reviews if re.search(r'txt$',file)]\n",
    "\n",
    "\n",
    "for review in reviews:\n",
    "    \n",
    "    nr_modal = 0\n",
    "    nr_comparative = 0\n",
    "\n",
    "\n",
    "    full_text = ''\n",
    "    with open(join(path,review)) as fh:\n",
    "        full_text = fh.read().lower()\n",
    "\n",
    "        words = word_tokenize(full_text)\n",
    "        words = remove_punctuation(words)\n",
    "        words = [word for word in words if word not in stopwords]\n",
    "        pos = pos_tag(words)\n",
    "        \n",
    "        words = []\n",
    "        \n",
    "        tags = []\n",
    "        for p in pos:\n",
    "            tags.append(p[1])\n",
    "\n",
    "            if re.search(r'^JJ',p[1]) or re.search(r'^RB',p[1]):\n",
    "                words.append(p[0])\n",
    "                \n",
    "        freq_tags = Counter(tags)\n",
    "   \n",
    "        freq_F.update(words)\n",
    "        row = []\n",
    "        row.append(freq_tags.get('MD',0))\n",
    "        row.append(freq_tags.get('JJR',0)+freq_tags.get('RBR',0))\n",
    "        row.append(freq_tags.get('VBP',0))\n",
    "        row.append(freq_tags.get('VBZ',0))\n",
    "        row.append('F')\n",
    "        pos_data.append(row)\n",
    "                        \n",
    "for word,count in freq_F.most_common(30):\n",
    "    print(word,count)\n",
    "  "
   ]
  },
  {
   "cell_type": "markdown",
   "id": "e69afd07",
   "metadata": {},
   "source": [
    "Which adjectives and adverbs from the reviews of books written by male authors are NEVER used in the the reviews of books written by female authors? "
   ]
  },
  {
   "cell_type": "code",
   "execution_count": 7,
   "id": "8879f15c",
   "metadata": {},
   "outputs": [
    {
     "name": "stdout",
     "output_type": "stream",
     "text": [
      "uthred\n",
      "finall\n",
      "showdown\n",
      "uhtred\n",
      "arcs\n",
      "tooth\n",
      "ultred\n",
      "mercia\n",
      "danish\n",
      "weakened\n",
      "peace\n",
      "progressing\n",
      "flame\n",
      "booktube\n",
      "channelspecial\n",
      "annabeth\n",
      "shudder\n",
      "tranquil\n",
      "quality\n",
      "kingdom\n",
      "enticingly\n",
      "devourable\n",
      "finan\n",
      "unrivalled\n",
      "criminally\n",
      "leave\n",
      "template\n",
      "oaths\n",
      "cornwell\n",
      "oldof\n",
      "looser\n",
      "fictious\n",
      "titled\n",
      "norse\n",
      "historian\n",
      "wirral\n",
      "roman\n",
      "warfare\n",
      "upshot\n",
      "cake\n",
      "alfred\n",
      "nailed\n",
      "episcopal\n",
      "sicily\n",
      "behead\n",
      "murf\n",
      "reclaim\n",
      "norseman\n",
      "awaited\n",
      "bernard\n"
     ]
    }
   ],
   "source": [
    "max = 50\n",
    "i = 0\n",
    "\n",
    "for word in freq_M.keys():\n",
    "    if word not in freq_F.keys():\n",
    "        print(word)\n",
    "        i += 1\n",
    "        if i == max:\n",
    "            break\n",
    "        "
   ]
  },
  {
   "cell_type": "markdown",
   "id": "59386d49",
   "metadata": {},
   "source": [
    "Which adjectives and adverbs from the reviews of books written by female authors are NEVER used in the the reviews of books written by male authors? "
   ]
  },
  {
   "cell_type": "code",
   "execution_count": 8,
   "id": "23a62d9a",
   "metadata": {},
   "outputs": [
    {
     "name": "stdout",
     "output_type": "stream",
     "text": [
      "giffin\n",
      "meredith\n",
      "sanctimonious\n",
      "litmus\n",
      "unsaid\n",
      "shrew\n",
      "nolan\n",
      "unfeeling\n",
      "gabe\n",
      "scheduled\n",
      "irreverently\n",
      "argh\n",
      "josie\n",
      "daniel\n",
      "selfishishness\n",
      "ticking\n",
      "motherhood\n",
      "northside\n",
      "drive\n",
      "indirectly\n",
      "introvert\n",
      "donor\n",
      "shop\n",
      "bistro\n",
      "scrumptious\n",
      "henrik\n",
      "patriarchal\n",
      "defined\n",
      "inequitable\n",
      "flickering\n",
      "tantrum\n",
      "preteen\n",
      "anachronistically\n",
      "internalized\n",
      "snootiness\n",
      "anthropologie\n",
      "depressive\n",
      "antithetical\n",
      "heather\n",
      "unhindered\n",
      "toronto\n",
      "griffin\n",
      "drawn\n",
      "weirdddd\n",
      "morose\n",
      "pull\n",
      "godddd\n",
      "reserved\n",
      "poolside\n",
      "eg\n"
     ]
    }
   ],
   "source": [
    "max = 50\n",
    "i = 0\n",
    "\n",
    "for word in freq_F.keys():\n",
    "    if word not in freq_M.keys():\n",
    "        print(word)\n",
    "        i += 1\n",
    "        if i == max:\n",
    "            break"
   ]
  },
  {
   "cell_type": "code",
   "execution_count": 9,
   "id": "7426993d",
   "metadata": {},
   "outputs": [
    {
     "data": {
      "text/html": [
       "<div>\n",
       "<style scoped>\n",
       "    .dataframe tbody tr th:only-of-type {\n",
       "        vertical-align: middle;\n",
       "    }\n",
       "\n",
       "    .dataframe tbody tr th {\n",
       "        vertical-align: top;\n",
       "    }\n",
       "\n",
       "    .dataframe thead th {\n",
       "        text-align: right;\n",
       "    }\n",
       "</style>\n",
       "<table border=\"1\" class=\"dataframe\">\n",
       "  <thead>\n",
       "    <tr style=\"text-align: right;\">\n",
       "      <th></th>\n",
       "      <th>modal_verbs</th>\n",
       "      <th>comparative_words</th>\n",
       "      <th>non3-singular</th>\n",
       "      <th>3_singular</th>\n",
       "      <th>gender</th>\n",
       "    </tr>\n",
       "  </thead>\n",
       "  <tbody>\n",
       "    <tr>\n",
       "      <th>0</th>\n",
       "      <td>102</td>\n",
       "      <td>91</td>\n",
       "      <td>262</td>\n",
       "      <td>469</td>\n",
       "      <td>M</td>\n",
       "    </tr>\n",
       "    <tr>\n",
       "      <th>1</th>\n",
       "      <td>143</td>\n",
       "      <td>73</td>\n",
       "      <td>269</td>\n",
       "      <td>609</td>\n",
       "      <td>M</td>\n",
       "    </tr>\n",
       "    <tr>\n",
       "      <th>2</th>\n",
       "      <td>169</td>\n",
       "      <td>41</td>\n",
       "      <td>129</td>\n",
       "      <td>362</td>\n",
       "      <td>M</td>\n",
       "    </tr>\n",
       "    <tr>\n",
       "      <th>3</th>\n",
       "      <td>183</td>\n",
       "      <td>71</td>\n",
       "      <td>343</td>\n",
       "      <td>613</td>\n",
       "      <td>M</td>\n",
       "    </tr>\n",
       "    <tr>\n",
       "      <th>4</th>\n",
       "      <td>59</td>\n",
       "      <td>61</td>\n",
       "      <td>181</td>\n",
       "      <td>396</td>\n",
       "      <td>M</td>\n",
       "    </tr>\n",
       "  </tbody>\n",
       "</table>\n",
       "</div>"
      ],
      "text/plain": [
       "   modal_verbs  comparative_words  non3-singular  3_singular gender\n",
       "0          102                 91            262         469      M\n",
       "1          143                 73            269         609      M\n",
       "2          169                 41            129         362      M\n",
       "3          183                 71            343         613      M\n",
       "4           59                 61            181         396      M"
      ]
     },
     "execution_count": 9,
     "metadata": {},
     "output_type": "execute_result"
    }
   ],
   "source": [
    "df = pd.DataFrame(pos_data,columns=['modal_verbs','comparative_words','non3-singular','3_singular','gender'])\n",
    "df.head()"
   ]
  },
  {
   "cell_type": "markdown",
   "id": "3a5b90a3",
   "metadata": {},
   "source": [
    "Are there differences in the use of modal verbs or in the use of adjectives or adverbs in the comparative form?"
   ]
  },
  {
   "cell_type": "code",
   "execution_count": 10,
   "id": "5258973d",
   "metadata": {},
   "outputs": [
    {
     "data": {
      "image/png": "[encoded data removed]",
      "text/plain": [
       "<Figure size 504x504 with 1 Axes>"
      ]
     },
     "metadata": {
      "needs_background": "light"
     },
     "output_type": "display_data"
    }
   ],
   "source": [
    "x_axis = 'modal_verbs'\n",
    "y_axis =  'comparative_words'\n",
    "point_colour = 'gender' \n",
    "\n",
    "\n",
    "fig = plt.figure( figsize = ( 7,7 ))\n",
    "\n",
    "## This line adds spacing in between the lines of the legend \n",
    "sns.set(rc = {'legend.labelspacing': 1.6})\n",
    "\n",
    "ax = sns.scatterplot( data=df, x=x_axis, y=y_axis,  \n",
    "                     hue= point_colour , s = 40 )\n",
    "\n",
    "\n",
    "ax.set_xlabel( 'Modal verbs'  , fontsize = 16 )\n",
    "ax.set_ylabel( 'Comparative words'  , fontsize = 16 )\n",
    "ax.set_title( 'Goodreads reviews' , fontsize=24 )\n",
    "\n",
    "\n",
    "# this next line places the legend outside of the graph\n",
    "plt.legend(bbox_to_anchor=(1.05, 1), loc=2, borderaxespad=0.);\n",
    "\n",
    "plt.savefig( 'scatterplot.png' , dpi=300 )"
   ]
  },
  {
   "cell_type": "code",
   "execution_count": 11,
   "id": "475489be",
   "metadata": {},
   "outputs": [
    {
     "data": {
      "image/png": "[encoded data removed]",
      "text/plain": [
       "<Figure size 504x504 with 1 Axes>"
      ]
     },
     "metadata": {},
     "output_type": "display_data"
    }
   ],
   "source": [
    "x_axis = '3_singular'\n",
    "y_axis = 'non3-singular'\n",
    "point_colour = 'gender' \n",
    "\n",
    "\n",
    "fig = plt.figure( figsize = ( 7,7 ))\n",
    "\n",
    "## This line adds spacing in between the lines of the legend \n",
    "sns.set(rc = {'legend.labelspacing': 1.6})\n",
    "\n",
    "ax = sns.scatterplot( data=df, x=x_axis, y=y_axis,  \n",
    "                     hue= point_colour , s = 40 )\n",
    "\n",
    "\n",
    "ax.set_xlabel( '3rd person singular'  , fontsize = 16 )\n",
    "ax.set_ylabel( '1st or 2nd person singular'  , fontsize = 16 )\n",
    "ax.set_title( 'Goodreads reviews' , fontsize=24 )\n",
    "\n",
    "\n",
    "# this next line places the legend outside of the graph\n",
    "plt.legend(bbox_to_anchor=(1.05, 1), loc=2, borderaxespad=0.);\n",
    "\n",
    "plt.savefig( 'scatterplot.png' , dpi=300 )"
   ]
  },
  {
   "cell_type": "markdown",
   "id": "88abf606",
   "metadata": {},
   "source": [
    "## Sentiment Analysis"
   ]
  },
  {
   "cell_type": "markdown",
   "id": "d529fc48",
   "metadata": {},
   "source": [
    "What are the most negative and the most positive sentences in the reviews of books by male authors?"
   ]
  },
  {
   "cell_type": "code",
   "execution_count": 12,
   "id": "05b9dece",
   "metadata": {},
   "outputs": [
    {
     "name": "stdout",
     "output_type": "stream",
     "text": [
      "\n",
      "Postive sentences\n",
      "\n",
      "the closest i can think of off the top of my head is Against the Day, but Pynchon characters are just kind of vectors for historical forces, Moore actually genuinely likes these people and wants you to as well, and pulls it off nicely, you're interested in their lives and fortunes, it's good and his metaphysical nature of time and mortality stuff is fun to think about and engage with, honestly it's a pretty strong start. [0.9908]\n",
      "“Aren't you afraid you're going to break everything and not be able to put it back together?”I am particularly happy to be sharing this review with you, fellow readers, mainly because it means I have very successfully survived the thirty heart attacks Morning Star so kindly gave me, and secondly because this trilogy is now so dear to me, I am almost tempted to discourage you all from ever giving it even half a thought, so as to keep it to myself like the most precious treasure -and please don't feel obliged to look dismayed; if you have ever loved a book, you couldn't have possibly escaped this feeling. [0.9886]\n",
      "Not a page turner, but it was still fascinating Father Alex is a wonderful protagonist that you cheer for and love The scene regarding the Orthodox and the Pope was beautiful and brought me to tears Wow what supposedly good Catholics did in the name of God disgusts me. [0.9878]\n",
      "First of all, before I get into my actual review of this book, congratulations to myself for reading my 100th book of the year and reaching my Goodreads goal for the year :) and what a great book it was… :) if you don’t know the In death series, it’s set about 40ish years in the future in New York and follows detective (at least she’s a detective at the beginning of the series) Eve Dallas :) each installment focuses on a different case but throughout all of the books we see the same group of characters… and the further we get, the bigger this group gets :) which is absolutely wonderful to watch how Eve from a very solitary person opens up and connects with more and more people who become her family :)This particular installment took a very dark turn that I did not expect and certainly wasn’t emotionally prepared for, so right at the beginning I am gonna put a trigger warning for sexual assault… that way I’m not spoiling any details, but people who might need that, will know to be prepared… if you need additional details PM me and I can explain better what can you expect… this is also the story that absolutely solidified my opinion that Dennis Mira is the most precious cookie ever and needs to be protected and treasured forever. [0.9875]\n",
      "?Yes I know I am a passionate fan of the Harry Bosch series, yes I have read every one of the twenty books in this series and yes book number nineteen was great ( and I loved the first few book in the series and pretty much loved al the rest of them) …but this book…just AMAZINGLY GOOD! [0.9874]\n",
      "I fought to read this lovely and powerful story built upon the amazing strength of people that get involved in near impossible conflicts surrounding them in times as the Great War and the legths in which people can push themselves for love , humanity , justice , honor , loyalty and every emotional feeling of pride , bravery , courage and even in the end forgiveness which is most important Togo forward after such horrific experiences in life . [0.9868]\n",
      "Oh man -- loved it-- Of Course I am a Harry Bosch fan and have read them all-- You would think that Connelly would run out of great stories and lean back and write boring stuff--no no this one is a good one-- Some may fin that Harry going over \"to the other side\" to help his defense attorney brother is off setting-- to me-- it shows yet another side Harry's Character -- still in the pursuit of the law and who done it investigation-- He is relentless in his pursuit of doing the right thing-- And its nice to see his brother's interest and learning of some of the procedural issues that can affect a case --you will see some of your old favorite characters pop up in this one as well as his daughter is featured and begins to show an interest in law enforcement -- ( you never know) This is a DO NOT MISS if you are a Bocsh series reader and fan\n",
      "Another excellent book in the Harry Bosch series . [0.9861]\n",
      "Series Order REVIEW | AMAZON REVIEW | AMAZON REVIEW | AMAZON REVIEW | AMAZON REVIEW | AMAZON REVIEW | AMAZON REVIEW | AMAZON REVIEW |AMAZON REVIEW | AMAZON REVIEW | AMAZON REVIEW | AMAZON REVIEW | AMAZON AMAZON\n",
      "THIS is the best book Ward has written in a long time. [0.9846]\n",
      "Each of the Corey books can be read as standalones but I would definitely recommend reading in order if at all possible due to the brilliant character development (or more perhaps that John stays beautifully the same while all others around him roll their eyes) and because his journey through various law enforcement agencies is really quite ironically witty and seeing it all pan out is one of the great joys of reading these novels. [0.9834]\n",
      "Ahh, love (and not just the sexy-time kind but the love between friends, the love of craft and the love of life), Mr Hornby reminds us that we all want it. [0.9831]\n",
      "\n",
      "Negative sentences\n",
      "\n",
      "\"His mind was freshly inclined toward sorrow; toward the fact that the world was full of sorrow; that everyone labored under some burden of sorrow; that all were suffering; that whatever way one took in this world, one must try to remember that all were suffering (none content; all wronged, neglected, overlooked, misunderstood), and therefore one must do what one could to lighten the load of those with whom one came into contact…We must try to see one another in this way…As suffering, limited beings…Perennially outmatched by circumstance, inadequately endowed with compensatory graces…And yet…Our grief must be defeated; it must not become our master, and make us ineffective…We must, to do the maximum good, bring the thing to its swiftest halt and…Kill more efficiently…Must end suffering by causing more suffering…His heart dropped at the thought of the killing…\"So, we must fight, if fighting is required, to defeat wherever oppression exists. [-0.9892]\n",
      "Only some deep-seated personal animosity toward drug kingpin Adán Barrera (which I think was explained in greater detail in the prequel, but Winslow does a fine job catching readers up) motivates Keller (along with a kick in the ass from the DEA) to abandon his monastic retirement as beekeeper in New Mexico and resume his pursuit of Barrera (only to realize just how hopelessly Byzantine the drug trade has gotten circa 2004, with so many players, so many cartels, so many unstable allegiances, and so many hellish bloodbaths of violence that never seem to end). [-0.9841]\n",
      "Motive Belinda and leopard making murder plans :-Belinda :- listen leopard we are gonna bomb this school and kill students , then we will do some more random killing and then some more killing and then finally we will kill Amos ! [-0.9834]\n",
      "Also the ending how they handled the worst villain ever was extremely disappointing, (view spoiler)[ losing his tongue and dying by the noose wasn't enough in my opinion for the Jackal, he was an evil dog and made so many people suffer but Darrow once again let him off, he should have been a caged animal for everyone to torture and shit on until he ate himself to death. [-0.9827]\n",
      "This issue about conducting warfare with normal human beings, who are given permission to kill for a few years while an adult soldier, and then are returned home with very little preparation on how to handle the memories of being a legal killer, or support on adjusting behavior from a brutal bloody environment to one where killing and blood is shocking and evil, hasn't been solved in millennia by thousands of societies. [-0.9823]\n",
      "But the idea that Brian sets up the whole elaborate thing of having Rachel follow clues to the point where she’ll ‘kill’ him, and then fake his own death solely as a shock treatment to cure her panic attacks is a bridge too far as well as just goddamn ridiculous. [-0.9817]\n",
      "Embattled retired veteran cop Bosch reluctantly helps his brother a popular defense lawyer Mickey Haller but with questionable and laughable morals who defends suspect Foster a tough reformed ex convict boob head gangster but somehow is accused of a seemingly random brutal murder rape home invasion. [-0.9815]\n",
      "At the beginning I was thinking maybe two stars, half-way through when Sir Gawain turned up it shifted up to a three-star rating but then it slowly sank in to the ground and pretty much died the death of a thousand dead men, who you think are dead but do that last-gasp thing and then really do die. [-0.9811]\n",
      "But the story's backbone is the Keller/Barrera feud, and here, as they each separately try to get a handle on the worsening violence, they still circle one another as their mutual hatred grows, and you get the sense that it can only possibly end with one of them dead. [-0.9808]\n",
      ". . sad trombone) is a bit of a nincompoop, but we immediately feel bad for him, as we learn that his wife, to whom he was hopelessly devoted, had been cheating on him, and then died in a freak accident — she fell down the stairs and he found at the bottom. [-0.9806]\n"
     ]
    }
   ],
   "source": [
    "\n",
    "from vaderSentiment.vaderSentiment import SentimentIntensityAnalyzer \n",
    "ana = SentimentIntensityAnalyzer()\n",
    "\n",
    "review_scores = []\n",
    "\n",
    "dir = 'GR'\n",
    "path = join(dir,'M')\n",
    "\n",
    "sent_scores = dict()\n",
    "\n",
    "reviews = os.listdir(path)\n",
    "reviews = [file for file in reviews if re.search(r'txt$',file)]\n",
    "\n",
    "for review in reviews:\n",
    "\n",
    "    full_text = ''\n",
    "    with open(join(path,review)) as fh:\n",
    "        full_text = fh.read()\n",
    "    \n",
    "    total = 0\n",
    "    sentences = sent_tokenize(full_text)\n",
    "    if len(sentences)>0:\n",
    "        for s in sentences:\n",
    "            scores = ana.polarity_scores(s)\n",
    "            sent_scores[s] = scores['compound']\n",
    "            total += scores['compound']\n",
    "        avg = total / len(sentences)\n",
    "        row = []\n",
    "        row.append(review)\n",
    "        row.append(avg)\n",
    "        row.append('M')\n",
    "        review_scores.append(row)\n",
    "\n",
    "        \n",
    "nr_sentences = 10\n",
    "\n",
    "i = 0\n",
    "\n",
    "print('\\nPostive sentences\\n')\n",
    "\n",
    "for s in sortedByValue( sent_scores , ascending = False ):\n",
    "    print( f'{s} [{ sent_scores[s]}]' )\n",
    "    i+= 1\n",
    "    if i == nr_sentences:\n",
    "        break\n",
    "        \n",
    "print('\\nNegative sentences\\n')\n",
    "i = 0\n",
    "        \n",
    "for s in sortedByValue( sent_scores , ascending = True):\n",
    "    print( f'{s} [{ sent_scores[s]}]' )\n",
    "    i+= 1\n",
    "    if i == nr_sentences:\n",
    "        break"
   ]
  },
  {
   "cell_type": "markdown",
   "id": "3e086574",
   "metadata": {},
   "source": [
    "What are the most negative and the most positive sentences in the reviews of books by female authors?"
   ]
  },
  {
   "cell_type": "code",
   "execution_count": 13,
   "id": "92ec841a",
   "metadata": {},
   "outputs": [
    {
     "name": "stdout",
     "output_type": "stream",
     "text": [
      "\n",
      "Postive sentences\n",
      "\n",
      "I have read every book that Danielle Steel but this one - I couldn't get into it\n",
      "This book is really close to my heart because it's written by my favorite author, the plot hits home and it was a gift from the most amazing soul on my last birthday (thanks @leno_katlholo 🫂) Precious Gifts is a story about Veronique, an ex-wife and mother who has raised three beautiful strong daughters. [0.9918]\n",
      "The story is not just a coming of age, but the second half is a love story, wherein Addie finds a man who not only sees her as beautiful, but as intelligent, strong, and capable- who sees Addie as an equal, showing readers that real love means respect, and that women deserve partners who know that. [0.989]\n",
      "We see her as a romantic feminist, a literary genius juggling fame, love and family, a doting and sensual lover (for both sexes), a loving and dedicated parent, a loyal and compassionate friend and an innate music lover all rolled into one. [0.987]\n",
      "You've got a vast group of main characters, but they are all new besides Leia (and C3PO), so it does feel very much like her story, so I really like exploring her thoughts and actions :) But the new characters are also very interesting, and the relationships work very well, and I especially liked Ransolm Casterfo - it was a very curious character to exploreReally this a GREAT read and I do recommend this book to any Star Wars fans :DFor spoilers, you can check out my other comments here: thestagthatlovedthewolf. [0.9866]\n",
      "But this heartfelt novel is full of rich themes like loyalty, artistic license, status, aging and, above all, true friendship. [0.9836]\n",
      "” The other half of people Naomi meets are just so artsy and so amazing at their landscaping/furniture making etc jobs and instantly recognise her AMAZING talent and are always just SO EAGER to swap their work or negotiate a discount on some funky and hipster chair that they have made in exchange for one of her AMAZING photos because her photography is just THAT AMAZING. [0.9817]\n",
      "“Where is the glory if there is no one left to tell the story?” ARC provided by publisher via Netgalley in exchange for an honest review Follow me on ♥ Facebook ♥ Blog ♥ Instagram ♥ Twitter ♥\n",
      "[4. [0.981]\n",
      "There are also the things I've come to expect from Briggs, but I still love them - the fact that Mercy is a strong, independent woman (who is not at all jealous, because she believes in Adam, which is very rare and appreciated in UF), but she still lets other people help her. [0.9801]\n",
      "But then, it would not accurately portray the nuances of exactly what is meant by the word wow… in this case, wow, what a long book … wow, what an important book… wow, what a sad book… wow, what a humbling book … wow, what a necessary book. [0.98]\n",
      "But, like the force that accumulates from the many small, great things that conspire to destroy, maybe Picoult’s book offers one more small great thing that, when combined with many other small great things can generate a force large enough to cascade down on our long national original sin and help clear the way for a better tomorrow. [0.9793]\n",
      "\n",
      "Negative sentences\n",
      "\n",
      "Blog | Instagram | Twitter | Tumblr | Youtube | TwitchContent and trigger warnings for war, loss of a loved one, loss of a child, abandonment, miscarrying, violence, gore, death, anti-Semitism, talk of suicide, cancer, slavery, labor camps, sexual assault, rape, and abuse. [-0.993]\n",
      "Flawed people who have experienced tragedy and haunting childhoods, abuse, mental illness, injustice, poverty, bullying, regrets, torment, war trauma, imploding lives, marriage problems, and severe loss. [-0.9919]\n",
      "A woman with a psychic connection who swindled people for tarot readings etc, but was meant to be a true voice on these deaths, a lying tainted cop with a weak disposition, a sister who had lost her own sibling leaving a tortured neice behind - the same woman who did not return her now dead sister's phone calls, awful young blokes doing awful things do young women, an insipid spineless head teacher who completely lacked personality. [-0.9867]\n",
      "But, in the end, fast fame, coupled with a nasty and cutting side to Truman’s personality, that existed all along, brewing just beneath the surface, caused the house of cards to collapse spectacularly, and when it did, it took Truman by surprise, having grossly underestimated his swans, and gave me a look at Babe Paley, more than any other character, that left me feeling bereft on her behalf, as her immense sorrow and loneliness was palpable, making me furious at Truman and heartbroken for them both, at the same time. [-0.9834]\n",
      "comtw: car accident, child death, mentions of war and human rights violations, suicidal thoughts, mentions of child abuse, gun violence, mentions of sodomy on a child, victim blaming, pedophilia Finally a Danielle Steel book that I truly enjoyed. [-0.9828]\n",
      "The story of their fledgling friendship out of tragedy (all are widows after the failure of Operation Valkyrie, the mission to assassinate Hitler) and the tests and strains those bonds face and undergo as they carve out collective and individual lives in the war's aftermath is as compelling as the larger tale of the defeated German nation dealing with grief and guilt post war, as wel their silence and complicity and hunger and deprevation and sexual assault and violence. [-0.9805]\n",
      "It is sad, but so beautifully written and if you haven't already, I ++ recommend that since I didn't give you a lot of plot detail, you go find out everything I never told you to get the rest🌊\n",
      "Who are you Celeste Ng and what have you done to my emotions?😩😩😩😩😩😩😩😩😩😩😩😩😩😩😩😩I feel like a 13 year old girl that has just had her boyfriend break up with her and is now going steady (is that still a thing?) [-0.9795]\n",
      "Turk Bauer: The white racist who only became racist cause his brother got killed in car accident caused by a black guy (The majority of racists hate another race simply because they look different from them or just cause they're 'the other'. [-0.9744]\n",
      "The mystery was solid but I thought the ending was kind of dumb, (view spoiler)[ they killed his brother to put him out of his pain but he was dying anyways (hide spoiler)], it just felt like the whole murder spree was unwarranted. [-0.974]\n",
      "There were periodic air raids and rationing of food and supplies, but we would go for lengths of time without any mention of war and then come to a chapter where a load of facts and info were suddenly dropped into our laps - how many Jews had been liberated at a concentration camp, how many German soldiers annihilated by the Russian army, refugees and fallen cities, and horrific tales of Nazi cruelty - usually gleaned from radio broadcasts or the local paper. [-0.9721]\n"
     ]
    }
   ],
   "source": [
    "\n",
    "dir = 'GR'\n",
    "path = join(dir,'F')\n",
    "\n",
    "sent_scores = dict()\n",
    "\n",
    "reviews = os.listdir(path)\n",
    "reviews = [file for file in reviews if re.search(r'txt$',file)]\n",
    "\n",
    "for review in reviews:\n",
    "\n",
    "    full_text = ''\n",
    "    with open(join(path,review)) as fh:\n",
    "        full_text = fh.read()\n",
    "    \n",
    "    total = 0\n",
    "    sentences = sent_tokenize(full_text)\n",
    "    if len(sentences)>0:\n",
    "        for s in sentences:\n",
    "            scores = ana.polarity_scores(s)\n",
    "            sent_scores[s] = scores['compound']\n",
    "            total += scores['compound']\n",
    "        avg = total / len(sentences)\n",
    "        row = []\n",
    "        row.append(review)\n",
    "        row.append(avg)\n",
    "        row.append('F')\n",
    "        review_scores.append(row)\n",
    "        \n",
    "nr_sentences = 10\n",
    "\n",
    "i = 0\n",
    "\n",
    "print('\\nPostive sentences\\n')\n",
    "\n",
    "for s in sortedByValue( sent_scores , ascending = False ):\n",
    "    print( f'{s} [{ sent_scores[s]}]' )\n",
    "    i+= 1\n",
    "    if i == nr_sentences:\n",
    "        break\n",
    "        \n",
    "print('\\nNegative sentences\\n')\n",
    "i = 0\n",
    "        \n",
    "for s in sortedByValue( sent_scores , ascending = True):\n",
    "    print( f'{s} [{ sent_scores[s]}]' )\n",
    "    i+= 1\n",
    "    if i == nr_sentences:\n",
    "        break"
   ]
  },
  {
   "cell_type": "code",
   "execution_count": 14,
   "id": "7016c47d",
   "metadata": {},
   "outputs": [],
   "source": [
    "df = pd.DataFrame(review_scores,columns=['review','sentiment_score','gender'])"
   ]
  },
  {
   "cell_type": "markdown",
   "id": "90db9d3a",
   "metadata": {},
   "source": [
    "On the whole, are the reviews in the first group more positive than the reviews in the second group?"
   ]
  },
  {
   "cell_type": "code",
   "execution_count": 15,
   "id": "3d9d9445",
   "metadata": {},
   "outputs": [
    {
     "data": {
      "text/plain": [
       "<AxesSubplot:xlabel='gender', ylabel='sentiment_score'>"
      ]
     },
     "execution_count": 15,
     "metadata": {},
     "output_type": "execute_result"
    },
    {
     "data": {
      "image/png": "[encoded data removed]",
      "text/plain": [
       "<Figure size 504x576 with 1 Axes>"
      ]
     },
     "metadata": {},
     "output_type": "display_data"
    }
   ],
   "source": [
    "import seaborn as sns\n",
    "import matplotlib.pyplot as plt\n",
    "\n",
    "fig = plt.figure( figsize = ( 7,8 ))\n",
    "sns.boxplot(data = df , y='sentiment_score' , x = 'gender')"
   ]
  }
 ],
 "metadata": {
  "kernelspec": {
   "display_name": "Python 3 (ipykernel)",
   "language": "python",
   "name": "python3"
  },
  "language_info": {
   "codemirror_mode": {
    "name": "ipython",
    "version": 3
   },
   "file_extension": ".py",
   "mimetype": "text/x-python",
   "name": "python",
   "nbconvert_exporter": "python",
   "pygments_lexer": "ipython3",
   "version": "3.7.9"
  }
 },
 "nbformat": 4,
 "nbformat_minor": 5
}
