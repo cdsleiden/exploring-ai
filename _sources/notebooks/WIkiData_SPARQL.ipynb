{
 "cells": [
  {
   "cell_type": "markdown",
   "id": "7520d025",
   "metadata": {},
   "source": [
    "# WikiData SPARQL\n",
    "\n",
    "To work with the Notebook, open the URL [https://mybinder.org/v2/gh/peterverhaar/network-cultural-heritage/main?labpath=Wikidata%20SPARQL.ipynb](https://mybinder.org/v2/gh/peterverhaar/network-cultural-heritage/main?labpath=Wikidata%20SPARQL.ipynb)"
   ]
  },
  {
   "cell_type": "markdown",
   "id": "6f2a22cb",
   "metadata": {},
   "source": [
    "[![Binder](https://mybinder.org/badge_logo.svg)](https://mybinder.org/v2/gh/peterverhaar/network-cultural-heritage/main?labpath=RKD%20SPARQL.ipynb)"
   ]
  },
  {
   "cell_type": "code",
   "execution_count": null,
   "id": "61509c60",
   "metadata": {},
   "outputs": [],
   "source": []
  }
 ],
 "metadata": {
  "kernelspec": {
   "display_name": "Python 3 (ipykernel)",
   "language": "python",
   "name": "python3"
  },
  "language_info": {
   "codemirror_mode": {
    "name": "ipython",
    "version": 3
   },
   "file_extension": ".py",
   "mimetype": "text/x-python",
   "name": "python",
   "nbconvert_exporter": "python",
   "pygments_lexer": "ipython3",
   "version": "3.7.9"
  }
 },
 "nbformat": 4,
 "nbformat_minor": 5
}
