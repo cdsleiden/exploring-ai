{
 "cells": [
  {
   "cell_type": "markdown",
   "id": "dd6154b4",
   "metadata": {},
   "source": [
    "## Welcome\n",
    "\n",
    "This website offers access to notebooks developed for the Digital Access to Textual Heritage course. "
   ]
  },
  {
   "cell_type": "markdown",
   "id": "37a6a1de",
   "metadata": {},
   "source": [
    "Developments or enhancements requests for the notebooks presented on this site can be communicated via [a Google Doc](https://docs.google.com/document/d/1MUbTnSlCpJdwv-E4s1rFardc9kHMFqTZBR7oXy6p9rU/edit). "
   ]
  },
  {
   "cell_type": "code",
   "execution_count": null,
   "id": "e2aba867",
   "metadata": {},
   "outputs": [],
   "source": []
  }
 ],
 "metadata": {
  "kernelspec": {
   "display_name": "Python 3 (ipykernel)",
   "language": "python",
   "name": "python3"
  },
  "language_info": {
   "codemirror_mode": {
    "name": "ipython",
    "version": 3
   },
   "file_extension": ".py",
   "mimetype": "text/x-python",
   "name": "python",
   "nbconvert_exporter": "python",
   "pygments_lexer": "ipython3",
   "version": "3.7.9"
  }
 },
 "nbformat": 4,
 "nbformat_minor": 5
}
