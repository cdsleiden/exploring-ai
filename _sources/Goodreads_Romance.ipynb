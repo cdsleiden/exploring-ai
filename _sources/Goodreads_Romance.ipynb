{
 "cells": [
  {
   "cell_type": "markdown",
   "id": "e59efb4d",
   "metadata": {},
   "source": [
    "# Goodreads reviews of Romance books"
   ]
  },
  {
   "cell_type": "code",
   "execution_count": 1,
   "id": "c868aa4b",
   "metadata": {},
   "outputs": [],
   "source": [
    "import pandas as pd\n",
    "import os\n",
    "from os.path import join\n",
    "import stanza\n",
    "import re\n",
    "from nltk import sent_tokenize\n",
    "from collections import Counter\n",
    "from langdetect import detect\n",
    "import pandas as pd\n",
    "from vaderSentiment.vaderSentiment import SentimentIntensityAnalyzer \n",
    "ana = SentimentIntensityAnalyzer()\n",
    "import requests\n",
    "from langdetect import detect\n",
    "import nltk\n",
    "from bs4 import BeautifulSoup\n",
    "from nltk import word_tokenize,pos_tag\n",
    "import matplotlib.pyplot as plt\n",
    "import seaborn as sns\n",
    "import random\n",
    "from bs4.element import Comment\n",
    "import credentials\n",
    "key = credentials.key\n",
    "\n",
    "import string\n",
    "from nltk.corpus import stopwords\n",
    "stopword_list = stopwords.words('english')\n",
    "for mark in string.punctuation + '“”’—‘':\n",
    "    stopword_list.append(mark)\n",
    "\n",
    "def remove_punctuation(words):\n",
    "    new_list= []\n",
    "    for w in words:\n",
    "        if w.isalnum():\n",
    "            new_list.append( w )\n",
    "    return new_list\n",
    "\n",
    "def sorted_by_value( dict , ascending = True ):\n",
    "    if ascending: \n",
    "        return {k: v for k, v in sorted(dict.items(), key=lambda item: item[1])}\n",
    "    else:\n",
    "        return {k: v for k, v in reversed( sorted(dict.items(), key=lambda item: item[1]))}\n",
    "    \n",
    "user_agents = [\n",
    "    'Mozilla/5.0 (Windows NT 10.0; Win64; x64) AppleWebKit/537.36 (KHTML, like Gecko) Chrome/109.0.0.0 Safari/537.36',\n",
    "    'Mozilla/5.0 (Macintosh; Intel Mac OS X 10_15_7) AppleWebKit/537.36 (KHTML, like Gecko) Chrome/109.0.0.0 Safari/537.36',\n",
    "    'Mozilla/5.0 (Windows NT 10.0; Win64; x64) AppleWebKit/537.36 (KHTML, like Gecko) Chrome/108.0.0.0 Safari/537.36',\n",
    "    'Mozilla/5.0 (Macintosh; Intel Mac OS X 10_15_7) AppleWebKit/537.36 (KHTML, like Gecko) Chrome/108.0.0.0 Safari/537.36',\n",
    "    'Mozilla/5.0 (X11; Linux x86_64) AppleWebKit/537.36 (KHTML, like Gecko) Chrome/108.0.0.0 Safari/537.36',\n",
    "    'Mozilla/5.0 (Macintosh; Intel Mac OS X 10_15_7) AppleWebKit/605.1.15 (KHTML, like Gecko) Version/16.1 Safari/605.1.15',\n",
    "    'Mozilla/5.0 (Macintosh; Intel Mac OS X 13_1) AppleWebKit/605.1.15 (KHTML, like Gecko) Version/16.1 Safari/605.1.15'\n",
    "]\n",
    "\n",
    "def select_agent():\n",
    "    n=random.randint(0,len(user_agents)-1)\n",
    "    return user_agents[n]\n",
    "\n",
    "def tag_visible(element):\n",
    "    if element.parent.name in ['style', 'script', 'head', 'title', 'meta', '[document]']:\n",
    "        return False\n",
    "    if isinstance(element, Comment):\n",
    "        return False\n",
    "    return True\n",
    "\n"
   ]
  },
  {
   "cell_type": "markdown",
   "id": "1a4638a2",
   "metadata": {},
   "source": [
    "This notebook analyses reviews of books which were on the New York Times bestsellers lists in 2015. "
   ]
  },
  {
   "cell_type": "code",
   "execution_count": 2,
   "id": "304c8b84",
   "metadata": {},
   "outputs": [],
   "source": [
    "directory = 'Romance'\n",
    "if not os.path.exists(directory):\n",
    "    os.makedirs(directory)"
   ]
  },
  {
   "cell_type": "code",
   "execution_count": 3,
   "id": "70001c36",
   "metadata": {},
   "outputs": [
    {
     "name": "stdout",
     "output_type": "stream",
     "text": [
      "The CSV file contains 239 records.\n"
     ]
    }
   ],
   "source": [
    "df = pd.read_csv('romance_goodreads.csv')\n",
    "print(f'The CSV file contains {df.shape[0]} records.')"
   ]
  },
  {
   "cell_type": "code",
   "execution_count": null,
   "id": "50c7323a",
   "metadata": {},
   "outputs": [],
   "source": [
    "\n",
    "for url in df['Antwort_Link']:\n",
    "    gr_id = re.sub(r'https:\\/\\/www[.]goodreads[.]com\\/book\\/show/','',url)\n",
    "    gr_id = gr_id[ :gr_id.index('-') ]\n",
    "    path = join(directory,f'reviews_{gr_id}.txt')\n",
    "    if not os.path.exists(path):\n",
    "        out = open(path,'w',encoding='utf-8')\n",
    "        api_call = 'https://www.goodreads.com/book/show.json'\n",
    "        api_call += f'?key={key}&id={gr_id}&text_only=true'\n",
    "        headers = {'User-Agent': select_agent() }\n",
    "        response = requests.get( api_call,headers=headers)\n",
    "        json_data = response.json()\n",
    "        reviews_widget = json_data['reviews_widget']\n",
    "\n",
    "        soup = BeautifulSoup( reviews_widget ,\"lxml\")\n",
    "\n",
    "        iframe = soup.find(\"iframe\")\n",
    "\n",
    "        pages_left = True\n",
    "\n",
    "        url = iframe.get(\"src\")\n",
    "\n",
    "        i = 1\n",
    "        while pages_left == True:\n",
    "            if re.search( r'[&]page',url,re.IGNORECASE):\n",
    "                url = url[:url.index('&page')]\n",
    "            url += '&page=' + str(i)\n",
    "            print(f\" {url}\")\n",
    "\n",
    "            headers = {'User-Agent': select_agent() }\n",
    "            response_reviews = requests.get(url,headers=headers)\n",
    "            html_page = response_reviews.text\n",
    "            if re.search(r'No\\s+reviews\\sfound',html_page,re.IGNORECASE):\n",
    "                pages_left = False\n",
    "            elif i == 100:\n",
    "                pages_left = False\n",
    "\n",
    "\n",
    "            soup = BeautifulSoup( html_page ,\"lxml\")\n",
    "\n",
    "            review_links = soup.find_all('a',{'class':'gr_more_link'})\n",
    "            for link in review_links:\n",
    "                url_review = link.get('href')\n",
    "                print(url_review)\n",
    "                headers = {'User-Agent': select_agent() }\n",
    "                response_review = requests.get(url_review,headers=headers)\n",
    "                html_page2 = response_review.text\n",
    "                soup = BeautifulSoup( html_page2 ,\"lxml\")\n",
    "\n",
    "                review_text = soup.find('div',{'class':'reviewText'})\n",
    "                full_text = ''\n",
    "                if review_text is not None:\n",
    "                    full_text = review_text.text \n",
    "                    full_text = re.sub('...more','',full_text)\n",
    "\n",
    "                language = 'Unknown'\n",
    "                try:\n",
    "                    language = detect(full_text)\n",
    "                except:\n",
    "                    print('Lanuage could not be detected')\n",
    "\n",
    "                if language =='en':\n",
    "                    out.write(full_text.strip()+'\\n')\n",
    "\n",
    "\n",
    "            i+=1\n",
    "\n",
    "    out.close()"
   ]
  },
  {
   "cell_type": "code",
   "execution_count": 8,
   "id": "61028c1f",
   "metadata": {},
   "outputs": [],
   "source": [
    "reviews =os.listdir(directory)\n",
    "reviews = [join(directory,file) for file in reviews if re.search(r'txt$',file)]"
   ]
  },
  {
   "cell_type": "markdown",
   "id": "1774ea9f",
   "metadata": {},
   "source": [
    "Reviews in langauges other than English are left out of consideration. "
   ]
  },
  {
   "cell_type": "markdown",
   "id": "fc08cc5c",
   "metadata": {},
   "source": [
    "## Part of speech tagging"
   ]
  },
  {
   "cell_type": "markdown",
   "id": "bbadcc9d",
   "metadata": {},
   "source": [
    "What are the most common adjectives in the reviews? "
   ]
  },
  {
   "cell_type": "code",
   "execution_count": 9,
   "id": "976fe5c7",
   "metadata": {},
   "outputs": [
    {
     "name": "stdout",
     "output_type": "stream",
     "text": [
      "really 2619\n",
      "much 2327\n",
      "also 2314\n",
      "even 1872\n",
      "first 1777\n",
      "good 1510\n",
      "never 1245\n",
      "many 1187\n",
      "still 1181\n",
      "well 1111\n",
      "little 1100\n",
      "always 952\n",
      "new 919\n",
      "best 805\n",
      "next 762\n",
      "great 747\n",
      "long 744\n",
      "main 730\n",
      "better 718\n",
      "ever 716\n",
      "different 699\n",
      "together 694\n",
      "last 682\n",
      "definitely 677\n",
      "back 658\n",
      "actually 652\n",
      "absolutely 630\n",
      "favorite 600\n",
      "enough 580\n",
      "right 574\n"
     ]
    }
   ],
   "source": [
    "pos_data = []\n",
    "stopwords = ['i','not','so']\n",
    "adj_adv = []\n",
    "\n",
    "freq = Counter()\n",
    "\n",
    "\n",
    "for review in reviews:\n",
    "    \n",
    "    nr_modal = 0\n",
    "    nr_comparative = 0\n",
    "    vbp = 0\n",
    "    vbz = 0\n",
    "\n",
    "    full_text = ''\n",
    "    with open(review) as fh:\n",
    "        adj_adv = []\n",
    "        full_text = fh.read().lower()\n",
    "\n",
    "        words = word_tokenize(full_text)\n",
    "        words = remove_punctuation(words)\n",
    "        words = [word for word in words if word not in stopwords]\n",
    "        pos = pos_tag(words)\n",
    "        \n",
    "\n",
    "        for p in pos:\n",
    "            if re.search(r'^JJ',p[1]) or re.search(r'^RB',p[1]):\n",
    "                if p[0] not in stopword_list:\n",
    "                    adj_adv.append(p[0])\n",
    "                \n",
    "        freq.update(adj_adv)\n",
    "        \n",
    "for word,count in freq.most_common(30):\n",
    "    print(word,count)"
   ]
  },
  {
   "cell_type": "markdown",
   "id": "88abf606",
   "metadata": {},
   "source": [
    "## Sentiment Analysis"
   ]
  },
  {
   "cell_type": "markdown",
   "id": "d529fc48",
   "metadata": {},
   "source": [
    "What are the most negative and the most positive sentences?"
   ]
  },
  {
   "cell_type": "code",
   "execution_count": 10,
   "id": "05b9dece",
   "metadata": {},
   "outputs": [],
   "source": [
    "data = []\n",
    "nr_sentences = 0\n",
    "count_positive = 0\n",
    "count_negative = 0\n",
    "romance_sentences = dict()\n",
    "\n",
    "\n",
    "for file in reviews: \n",
    "\n",
    "    text = open(file,encoding='utf-8')\n",
    "    full_text = text.read()\n",
    "    sentences = sent_tokenize(full_text)\n",
    "    for sentence in sentences:\n",
    "        scores = ana.polarity_scores(sentence)\n",
    "        nr_sentences += 1\n",
    "        romance_sentences[sentence] = scores['compound']\n",
    "        if scores['compound'] > 0.6:\n",
    "            count_positive+=1\n",
    "        elif scores['compound'] < -0.6:\n",
    "            count_negative+=1\n",
    "\n",
    "\n",
    "count_neutral = nr_sentences - count_positive-count_negative\n",
    "\n",
    "data.append( ['Romance',count_neutral/nr_sentences,count_positive/nr_sentences,count_negative/nr_sentences])\n",
    "df = pd.DataFrame(data,columns=['reviews','neutral','positive','negative'])"
   ]
  },
  {
   "cell_type": "code",
   "execution_count": null,
   "id": "fd3341ee",
   "metadata": {},
   "outputs": [],
   "source": [
    "import pandas as pd\n",
    "import matplotlib.pyplot as plt\n",
    "import seaborn as sns\n",
    "\n",
    "\n",
    "y_axis = 'reviews'\n",
    "\n",
    "fig = plt.figure( figsize=( 8 , 3 ) )\n",
    "\n",
    "df['combined'] = df['positive'] + df['neutral'] + df['negative']\n",
    "graph = sns.barplot( data=df , x='combined', y=y_axis , label = 'Negative', color = '#c90e0e' )\n",
    "df['combined'] = df['combined'] - df['negative']\n",
    "graph = sns.barplot( data=df , x='combined', y=y_axis , color = '#ebdfdf')\n",
    "df['combined'] = df['combined'] - df['neutral']\n",
    "graph = sns.barplot( data=df , x='combined', y=y_axis , label = 'Positive' ,color = '#1b66de')\n",
    "\n",
    "graph.set_title('Sentiment analysis' , size = 20) \n",
    "graph.set_xlabel('Scores' , size = 14) \n",
    "graph.set_ylabel('Palestine' , size = 14 )\n",
    "\n",
    "plt.xticks(rotation= 90)\n",
    "\n",
    "# The next line places the legend outside out the plot\n",
    "plt.legend( bbox_to_anchor=(1.05, 1),loc=2, borderaxespad=0.);\n",
    "\n",
    "plt.show()"
   ]
  },
  {
   "cell_type": "markdown",
   "id": "f044cb92",
   "metadata": {},
   "source": [
    "What are the 10 most negative sentences?"
   ]
  },
  {
   "cell_type": "code",
   "execution_count": 11,
   "id": "f1d46c99",
   "metadata": {},
   "outputs": [
    {
     "name": "stdout",
     "output_type": "stream",
     "text": [
      "i saw the enemies to lovers arc coming from a fucking mile away but once a nikmai shipper, always a nikmai shipper.jesus christ it’s been a while, so here are the characters:- wulf (armul) the good immune system - glorian the badass bitch- tunuva the also bad bitch- dumai the god like damn- nikeya the reformed tory- esbar the i sort of liked her - canthe the bitch- unora the emperor fucker- guma the weird old man- siyu the repenter- fyredel hates inys - valeysa is mentioned once- thrit the gay ✌️- karl the absolute fucking dickhead- bardholt got downed by the sea 😭😭😭😭- sabran the bad bitch- florell the women’s rights activist - robart the cultist- imin was very nice - ninura the good girl - jeda growls a lot- furtia 😭😭😭yeah this book was a rollercoaster and i may have cried a couple of times.whatever samantha puts in these fucking books i ne of it, because my fucking god if i don’t get official sabread i will riot in the streets.did dumai die? -0.9974\n",
      "<3trigger + content warnings: loss of a loved one, blood depictions, abuse, mentions of rape in past, murder, death, gore, panic attacks, fire, talk of attempted suicide, talk of suicide, self harm for blood for magic, possession and compulsion, bullying, brief mentions of overdosing, drugs, drugs use, police brutality, cancer mention, vomiting, heat attack mention, animal death, talk of electric shock therapy, mentions of bugs/maggots/spiders, and very bad and abusive relationships with people and with parents in the past. -0.9971\n",
      "trigger + content warnings: depression, vomit, illness of a sibling/friend, death of a child, torture, murder, loss of parents in past, blood, racism (negative light), misogyny (negative light), kidnapping, drugging, lots of talk of medical and health conditions, brief talk of death during childbirth, emergency surgery, alcohol and drug use, poisoning, maybe suicide intent, talk of suicide in past, talk of rape, plague mention blog | instagram | youtube | kofi | spotify | amazon\n",
      "Could’ve just read the synopsis and left it at that for all it gave me\n",
      "“As a scholar once said, the only difference between a poison and a remedy is the dose. -0.9963\n",
      "I'll try to list them below.TW: Child abuse, betrayal, groping of a 14-year-old girl, attempted rape of a 14-year-old girl, systemic racism, control by threat of rape, themes of slavery, sex (semi-graphic), sexism, emesis, battle violence, violence against women (semi-graphic), blood, panic attack, depression, very mild suicide ideation, mentions of suicide, imprisonment, bondage. -0.9963\n",
      "(Link: https://open.spotify.com/playlist/4q8...)🎶 \"Bring Me To Life\" - Evanescence🎶 \"Angel of small death and the Codeine Scene\" - Hozier🎶 \"Heaven\" - Julia Michaels🎶 \"lovely liar\" - Stevie Howie🎶 \"Small Doses\" - Bebe Rexha🎶 \"Falling for the Villain\" - PEGGY🎶 \"The Name Of The Game\" - Amanda Seyfried🎶 \"The Man\" - Taylor Swift🎶 \"GOSSIP\" - Maneskin, Tom Morello🎶 \"Bewitched\" - Laufey🎶 \"Seven Devils\" - Florence + The Machine🎶 \"Masquerade\" - Lindsey Stirling🎶 \"Savages\" - MARINA🎶 \"Paint It Black - Epic Trailer Version\" - Hidden Citizens, Ranya🎶 \"Devil's Playground\" - The Rigs🎶 \"The Devil Is A Gentleman\" - Merci Raines🎶 \"THE DEATH OF PEACE OF MIND\" - Bad Omens🎶 \"Teeth\" - 5 Seconds of Summer🎶 \"Dancing's Done\" - Ava Max🎶 \"Morally Grey\" - April Jai🎶 \"BABYDOLL (Speed)\" - Ari Abdul🎶 \"Streets - Silhouette Remix\" - Doja Cat🎶 \"Devil Doesn't Bargain\" - Alec Benjamin🎶 \"I Fell In Love With The Devil\" - Avril Lavigne🎶 \"Looking At Me\" - Sabrina Carpenter🎶 \"Big Bad Wolf\" - Roses & Revolutions🎶 \"Seven Nation Army\" - Stevie Howie🎶 \"Play With Fire\" - Sam Tinnesz, Yacht Money🎶 \"TASTE (Speed)\" - Ari Abdul🎶 \"salvation\" - Christabelle Marbun🎶 \"Killer\" - Valerie Broussard🎶 \"Don't Make Me\" - MALINDA🎶 \"DEVILISH\" - Chase Atlantic🎶 \"Raise Hell\" - Dorothy🎶 \"Love and War\" - Fleurie🎶 \"Savage\" - Bahari🎶 \"Collide (Sped Up Remix)\" - Justine Skye, Tyga🎶 \"Fairytale\" - Alexander Rybak🎶 \"RUNRUNRUN\" - Dutch Melrose🎶 \"House Of Memories - Sped Up Version\" - Panic! -0.9943\n",
      "Rating: 4.25 out of 5 starsRep: curvy FMC, religion, monks, bi and pan spec characters (including a male lead), transgenderside characters (using transgender as an umbrella term) sapphic couple/mothers, gender neutral language/references TW: child abandonment (past), child neglect abuse (past), emotional/mental abuse, neglectful parents, murderous parents, doing ill in the name of religion, drug use/addiction, terminal illness, detailed descriptions of death, murder, killing, ritual disfigurement, torture, loss of limbs, necromancy, animal death Sometimes you read a book and you truly appreciate it after you finish. -0.9932\n",
      "I love Christina Lauren but this was such a let down, let’s talk about everything wrong with this, first let’s talk about the lack of boundaries the main character fizzy has ( stupid name btw), Connor tells her no and she takes it apon herself to push and push until he gives in, bitch no means fucking no, I’m surprised no one is talking about that because not only is it disgusting but it’s unacceptable behavior in any story, #2: im all about sex positivity but this got to the point where it was so repetitive that I got physically pissed cuz I was so annoyed.I dont wanna read over 200 pages about how horny you are and how you wanna fuck everyone and everything including your producer, literally the entire time I’m listening to her talk about dick and sex, even when she’s not getting any. -0.993\n",
      "I cannot recommend this bo to fans of epic fantasy, complex characters, and beautifully constructed worlds, and I can't wait to read anything and everything Shannon writes next!Watch me read and review the book here (both spoiler-free and spoiler reviews): https://youtu.be/p05Qpz3oa48Representation: Several MLM & WLW relationships, POV characters are asexual, lesbian, and bisexual, respectively, nonbinary & trans secondary charactersTrigger/Content Warnings: murder, violence, war, blood, gore, death, loss of parents, loss of an infant, animal death & cruelty, suicidal ideation, grief, slavery, kidnapping, pandemic, misogyny You can find me on...Youtube | Instagram | TikTokYou can join our book club over on Patreon...PBB Book ClubOriginal Review:This blew me away... -0.9917\n",
      "content warnings mentioned in author’s note at beginning of this book: graphic violence, violence against children, discussion of sexual assault and rape, and slaveryadditional trigger + content warnings i wrote down while reading: loss of parent in past, loss of loved one in past, grief, ptsd, suicidal ideation (and comments and thoughts about it), war, death, murder, captivity, blood, gore, self harm to get blood (for magic and for other things), vomit, drugging, and i just really want to emphasize how much this book talked about sa in the past – please use caution and make sure you are in a good headspace. -0.9902\n",
      "Tropes :Paranormal romance with witches, vampires and demonsEnemies to loversGothic dark academia settingHeadmaster - StudentDemon - Witch  tw:- dubious consent- forced feeding- graphic violence- rough and explicit sexual content- forced proximity- betrayal- references to past abuse & traumatic reactions to triggering stimuli- knife violence- graphic depictions of blood and gore- physical harm inflicted upon the main character- ritualistic murderI'm actually going to scream Mwah mwah The way this was ACTUALLY enemies to loversThe way this had the \"i had nowhere to go\"The way this had \"who did this\"And the way this had \"don't you dare touch her or I'll be the one who will kill you\"Alaric Headmaster ThornePlease fuck me so hard. -0.9896\n"
     ]
    }
   ],
   "source": [
    "iterator = iter(sorted_by_value(romance_sentences).items())\n",
    "for i in range(10):\n",
    "    item = next(iterator)\n",
    "    print(item[0], item[1])"
   ]
  },
  {
   "cell_type": "markdown",
   "id": "f46a530c",
   "metadata": {},
   "source": [
    "What are the 10 most positive sentences?"
   ]
  },
  {
   "cell_type": "code",
   "execution_count": 12,
   "id": "1ce6544f",
   "metadata": {},
   "outputs": [
    {
     "name": "stdout",
     "output_type": "stream",
     "text": [
      "Glorian is the daughter of two monarchs, but happiest in their shadow.Dumai is a godsinger, who has spent her life trying to wake the dragons from their eternal slumber.But when Dreadmount erupts, bringing with it an age of terror and violence, these women must find the strength to protect humankind...I loved Priory, but I adored this.I don’t know why, but I just felt so mu connected to characters, and loved them so much!Characters tend to be what makes or breaks a book for me, and these characters definitely made it!Glorian, Tunuva, Dumai, Esbar, and Nikaya, this cast of women were everything to me.What I particularly love about this series, this world, and Samantha Shannon’s writing, is how she writes female relationships.Not just the beautiful sapphic relationships, but also the grandmothers, the mothers, the sisters, adopted or birth, they were an absolutely stunning representation of how women can protect and help each other.Glorian was my favourite character, and I was constantly flipping between being worried about her and wanting to hug her, to being astonished at how brave and fierce this 17 year old is!She is in all ways, truly a queen.How she cared for her daughter, how she cared for her people, her kingdom, was so powerful, and I loved her all t for it.Tunuva was my other favourite, and again, the relationship she had with Siyu is so wholesome and beautiful, in my eyes, she was a better mother than Esbar.Samantha Shannon’s writing, as always, is incredible! 0.9983\n",
      "But don’t worry, I’ll show you.” WHAT TO EXPECT:✨ STEM romance✨ he's a straightforward, confident, perceptive, head of the MIT Physics Institute✨ she's a broke, people-pleasing, adjunct professor of physics interviewing for her dream job at MIT✨ academic rivals/hate to lovers✨ grumpy x sunshine✨ fake dating (his brother)✨ he falls first✨ lots of tension✨ amazing banter✨ slow burn✨ 2.5/5 spice ✨ \"let me take care of you\"✨ complicated family dynamics✨ found family✨ lie by omission ✨ HEA✨ single pov✨ twilight references✨ diabetes representation ✨ ace/aro spectrum representation ✨ Adam and Olive from The Love Hypothesis cameo\n",
      "My Thoughts:\n",
      " Absolutely LOVED!!!! 0.9983\n",
      "It needs a MAJOR rework\n",
      "4.50!I honestly can't form words right now because it's been so long since I read a cute fluffy romance and I'm so glad that I read this because my love for them increased.Tropes:• Dual pov• Confident FMC X shy MMC • Summer camp romance• One night stand • Forced proximity• Angst • Fluffiness • Found family • KISSING IN THE RAINThis was a very character driven novel and I absolutely love characters driven novels, it had some plot but it wasnt the main focus and to be honest it didn't even bother me, I didn't even feel like I needed it because the characters were so good that I totally fell in love with them.Aurora our FMC was such a strong, cute and pretty FMC I was in love with her like her character was very strong and how she took decisions at times where it felt like everything was over really made me love h she encouraged Russ, helped him and most of all loved him alot while also dealing with her own problems. 0.9976\n",
      "That’s how you know when it’s real.”💘⋆𓂃ִֶָ ⊹˚All I have to say is that, indeed, I fell in love with another perfect man written by Abby (unsurprisingly)💘 anddd I definitely found another fav book to add to my list 😌💖🛐 ────── ⋆⋅💜⋅⋆ ──────𝓣𝓻𝓸𝓹𝓮𝓼 / 𝓣𝓸𝓹𝓲𝓬𝓼:💌 mental health rep (social anxiety and depression)💌 dual POV💌 fake dating 💌 one bed💌 miscommunication💌 communications through letters 💌 cinnamon roll mmc- he would do anything just to talk/be with her💌 fmc that fiercely defends the mmc 💌 co-workers (ER doctors)💌 sensitive topics: chronic kidney disease, cheating (ex-husband), divorce, breakup, miscarriage💌 third act breakup/conflict 💌 pregnancy────── ⋆⋅💜⋅⋆ ──────\n",
      "\n",
      "🦋“We’re all a little broken, Briana. 0.9972\n",
      "😩😩💝💝 The Love Hypothesis is still my fav, but this is a close second 🤭🤭 Definitely pick this up if you're looking for:✔️ STEM romance✔️ Relatable fmc✔️ Amazing love interest✔️ So bingeable✔️ Stunning romanceAli Hazelwood never misses 😌💅《 2024 Challenge: Book 3 of 115 》~~~~~~~~~~~~~~~~~~~~~~~~Omg I ATE THIS UP 🤭🤭 such a fun storyline, great tension, painfully relatable fmc & a new book bf- my queen Ali Hazelwood has done it again 🥹🥹💝💝Rtc! 0.9969\n",
      "\"the last 100 pages scratched my brain in all the right places, and like i said the girls that get it get it and the girls that don’t don’t, i didn't know what to expect from this one at first but so many people loved it and i see it now, i love how it doesn't only revolve around the love, the characters, the friendships, the hope, the pain i loved all of it, the ending was perfect (it's exactly what i needed for it to end), the '𝘩𝘢𝘱𝘱𝘺 𝘱𝘭𝘢𝘤𝘦' chapters were my favourite, i loved the idea this book represents, all of us deserve to be happy with our life's, this is my second book for this author and it won't be the last, the writing was good and i wasn't bored like AT ALL which surprised me tbh the April slump was slumping until now, Wyn's character was hard to love for me at first but oh my now i LOVE him, harriet's feelings were so relatable sometimes that i wanted to cry, i understood her struggles and her fears that it was kinda scary, there's nothing i'd change about her or this book, to be completely honest with you i didn't really feel much connection to the first half of this book but the second half did everything for me, it got me thinking about how i handled things in my own life and my happy placei don't know what else to say so i'll leave you with some of my favourite quotes 🫶🏽\"𝘦𝘷𝘦𝘳𝘺𝘵𝘩𝘪𝘯𝘨 𝘬𝘦𝘦𝘱𝘴 𝘴𝘱𝘪𝘯𝘯𝘪𝘯𝘨,” 𝘩𝘦 𝘴𝘢𝘺𝘴 𝘪𝘯 𝘢 𝘭𝘰𝘸, 𝘩𝘰𝘢𝘳𝘴𝘦 𝘷𝘰𝘪𝘤𝘦. 0.9961\n",
      "Loved that we got the old gang here and they had a huge part as well!Kell and Lila are my reason for breathing they are always my favorite part of these books!As well as a little surprise I was personally very happy about because I didn’t think it was gonna happen but somehow Victoria made it work and I’m so happy she did because I love him!Victoria I love you🥰\n",
      "Thanks to TOR Publishing Group and Netgalley for giving me access to this book.The Fragile Threads of Power starts seven years after the ending of A Conjuring of Light, so we get to know what happened with our favorite characters, and the consequences of the plague that almost ended with the magic of the world. 0.9947\n",
      "Whimsical id say but there were some moments which I felt like skimming but besides them it had a good writing style.The romance and the plot would 60/40 the first fourth percent was all about the plot and introductions, how to move forward with the story and all along with the actual plot and tbh it was enjoyable but NGL I was bored with (I love books with good plot) but this ones romance was just better because I seemed to enjoy it w after the 40% mark I'd say the romance really did help me because that slow burn was 🤌The characters Alaric was like Alex from people we meet on vacations but make him broody and i loved Alex so I was bound to love Alaric he was a cinnamon roll but a broody cinnamon roll.Talasyn was a conflicting character there were some moments where I liked her others where I felt she was getting on my nerves and the latter happened alot so I'm not really a fan of her...Let's see where book 2 takes us!~~~I heard similar vibes to star wars and I bought it because starwars is so damn good and the clone wars is also my favourite animated show ever!! 0.9945\n",
      "I guarantee I'm missing things, but all the other small moments could easily be squeezed in or honestly some of them- cut.If all that^ happened in one book, if 7 & 8 were combined, then I could fucking see why the book would bee to be 1,200 pages long, but all of it wasn't in the same book so therefore 1,200 pages was RIDICULOUS 🫡Honestly we just better get so much happiness, good vibes, and peace in the last book because all my peeps deserve pure bliss 🖤 So, um sisters, yeah it’s time to put on those happy hats and write the happily ever after. 0.9937\n",
      "It offers an amazing opportunity to learn how things work behind the scenes of SNL, and at the same time, it provides an engaging, smart, sarcastic, entertaining, and powerful love story between a one-of-a-kind, quirky, intelligent, intellectual, and honest heroine and a bold, sweet, caring, straightforward, and charming hero. 0.9936\n"
     ]
    }
   ],
   "source": [
    "iterator = iter(sorted_by_value(romance_sentences,ascending=False).items())\n",
    "for i in range(10):\n",
    "    item = next(iterator)\n",
    "    print(item[0], item[1])"
   ]
  }
 ],
 "metadata": {
  "kernelspec": {
   "display_name": "Python 3 (ipykernel)",
   "language": "python",
   "name": "python3"
  },
  "language_info": {
   "codemirror_mode": {
    "name": "ipython",
    "version": 3
   },
   "file_extension": ".py",
   "mimetype": "text/x-python",
   "name": "python",
   "nbconvert_exporter": "python",
   "pygments_lexer": "ipython3",
   "version": "3.7.9"
  }
 },
 "nbformat": 4,
 "nbformat_minor": 5
}
