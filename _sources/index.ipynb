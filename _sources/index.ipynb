{
 "cells": [
  {
   "cell_type": "markdown",
   "metadata": {},
   "source": [
    "\n",
    "# Introduction \n",
    "\n",
    " \n",
    "Welcome to this introductory course about Linked Open Data in cultural heritage collections! This tutorial will help you to understand what Linked Open Data is and why heritage collections are increasingly published as Linked Open Data on the Web.  \n",
    "\n",
    "This turorial consists of three parts: \n",
    " \n",
    "- **Section 1: Basic principles**. This module will introduce you to the basic principles of Linked Open Data (LOD) and describes how LOD is used within the heritage field.\n",
    "\n",
    "- **Section 2: Creating and publishing Linked Open Data**. This module discusses some of the ways in which you can create and publish LOD. You will be familiarised with the LDwizard and CLARIAH Data Legend tool ‘COW’. \n",
    " \n",
    "- **Section 3: SPARQL queries**. To be able to retrieve and analyse Linked Open Data, you need to know how to build SPARQL queries. In this module, you will learn about the basics of SPARQL.\n",
    "  \n",
    "  \n",
    "While it is possible to study the three sections successively, each module has been set up in such a way that it can also be completed as a separate entity.  \n"
   ]
  },
  {
   "cell_type": "markdown",
   "metadata": {},
   "source": [
    "# Funding\n",
    "\n",
    "The research for this tutorial was made possible by the CLARIAH-PLUS project financed by NWO (Grant 184.034.023)"
   ]
  },
  {
   "cell_type": "code",
   "execution_count": null,
   "metadata": {},
   "outputs": [],
   "source": []
  }
 ],
 "metadata": {
  "kernelspec": {
   "display_name": "Python 3 (ipykernel)",
   "language": "python",
   "name": "python3"
  },
  "language_info": {
   "codemirror_mode": {
    "name": "ipython",
    "version": 3
   },
   "file_extension": ".py",
   "mimetype": "text/x-python",
   "name": "python",
   "nbconvert_exporter": "python",
   "pygments_lexer": "ipython3",
   "version": "3.7.9"
  }
 },
 "nbformat": 4,
 "nbformat_minor": 2
}
