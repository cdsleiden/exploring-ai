{
 "cells": [
  {
   "cell_type": "markdown",
   "metadata": {},
   "source": [
    "# 5. Lists\n"
   ]
  },
  {
   "cell_type": "markdown",
   "metadata": {},
   "source": [
    "## Exercise 5.1.\n",
    "\n",
    "Create the following list:\n",
    "\n",
    "```\n",
    "colours = ['green','blue','red']\n",
    "```\n",
    "\n",
    "Add the colours 'orange' and 'yellow' to this list. "
   ]
  },
  {
   "cell_type": "code",
   "execution_count": 1,
   "metadata": {},
   "outputs": [],
   "source": [
    "colours = ['green','blue','red']\n",
    "\n",
    "colours.append('orange')\n",
    "colours.append('yellow')"
   ]
  },
  {
   "cell_type": "markdown",
   "metadata": {},
   "source": [
    "## Exercise 5.2.\n",
    "\n",
    "Create two lists:\n",
    "\n",
    "`\n",
    "first = [4, 9, 1, 17, 11, 26, 28, 54, 63] \n",
    "second = [8, 9, 74, 21, 45, 11, 63, 28, 26] \n",
    "`\n",
    "\n",
    "Write code which can extract those numbers from the first list which are NOT in the second list.\n"
   ]
  },
  {
   "cell_type": "code",
   "execution_count": null,
   "metadata": {},
   "outputs": [],
   "source": [
    "first = [4, 9, 1, 17, 11, 26, 28, 54, 63] \n",
    "second = [8, 9, 74, 21, 45, 11, 63, 28, 26]\n",
    "\n",
    "for f in first:\n",
    "    if f not in second:\n",
    "        print(f)"
   ]
  },
  {
   "cell_type": "markdown",
   "metadata": {},
   "source": [
    "## Exercise 5.3.\n",
    "\n",
    "The list below contains the titles of first twelve plays written by William Shakespeare.\n",
    "\n",
    "```\n",
    "plays = [ 'Comedy of Errors' ,\n",
    "'Henry VI, Part I' ,\n",
    "'Henry VI, Part II' ,\n",
    "'Henry VI, Part III' ,\n",
    "'Richard III' ,\n",
    "'Taming of the Shrew' ,\n",
    "'Titus Andronicus' ,\n",
    "'Romeo and Juliet' ,\n",
    "'Two Gentlemen of Verona' ,\n",
    "'Love\\'s Labour\\'s Lost' ,\n",
    "'Richard II' ,\n",
    "'Midsummer Night\\'s Dream' ]```\n",
    "\n",
    "Add the following two titles to this list:\n",
    " \n",
    "* Macbeth\n",
    "* Othello\n",
    "\n",
    "Next, count the number of plays in this list and print the titles of the first and the last plays in the list, using the index of these items. \n",
    "Print the full list in alphabetical order using the ‘for’ keyword.\n"
   ]
  },
  {
   "cell_type": "code",
   "execution_count": null,
   "metadata": {},
   "outputs": [],
   "source": [
    "plays = [ 'Comedy of Errors' ,\n",
    "'Henry VI, Part I' ,\n",
    "'Henry VI, Part II' ,\n",
    "'Henry VI, Part III' ,\n",
    "'Richard III' ,\n",
    "'Taming of the Shrew' ,\n",
    "'Titus Andronicus' ,\n",
    "'Romeo and Juliet' ,\n",
    "'Two Gentlemen of Verona' ,\n",
    "'Love\\'s Labour\\'s Lost' ,\n",
    "'Richard II' ,\n",
    "'Midsummer Night\\'s Dream' ]\n",
    "\n",
    "plays.append('Macbeth')\n",
    "plays.append('Othello')\n",
    "plays.append('Romeo and Juliet')\n",
    "plays.append('Timon of Athens')\n",
    "plays.append('Titus Andronicus')\n",
    "\n",
    "print( 'This list contains {} plays.'.format( len(plays) ) )\n",
    "print( \"The first play in the list is '{}'.\".format( plays[0] ) )\n",
    "print( \"The last play in the list is '{}'.\".format( plays[-1] ) )\n",
    "\n",
    "for p in sorted(plays):\n",
    "    print(p)"
   ]
  },
  {
   "cell_type": "markdown",
   "metadata": {},
   "source": [
    "## Exercise 5.4.\n",
    "\n",
    "Copy the code below.\n",
    "\n",
    "```\n",
    "sites = [ 'https://www.universiteitleiden.nl' , 'https://www.stanford.edu' , 'https://www.uu.nl' , 'http://www.ox.ac.uk' , 'https://www.rug.nl' , 'https://www.hu-berlin.de' , 'https://www.uva.nl' ]\n",
    "```\n",
    "\n",
    "Write some additional code which can select the Dutch websites from this list.\n",
    "Tip: You may want to reuse some of the code developed for  exercise 3.4.\n"
   ]
  },
  {
   "cell_type": "code",
   "execution_count": null,
   "metadata": {},
   "outputs": [],
   "source": [
    "sites = [ 'https://www.universiteitleiden.nl' , 'https://www.stanford.edu' , 'https://www.uu.nl' , 'http://www.ox.ac.uk' , 'https://www.rug.nl' , 'https://www.hu-berlin.de' , 'https://www.uva.nl' ]\n",
    "\n",
    "for url in sites:\n",
    "    tdl = url[ url.rindex('.') + 1 : len(url) ]\n",
    "    if tdl == 'nl':\n",
    "        print(url)"
   ]
  },
  {
   "cell_type": "markdown",
   "metadata": {},
   "source": [
    "## Exercise 5.5\n",
    "\n",
    "\n",
    "Define a Python list named `years`, containing the following values:\n",
    "\n",
    "`\n",
    "years = [ 1756, 1575, 2002, 1984 ,1626 ,1791, 1714, 1873, 1991 ]\n",
    "`\n",
    "\n",
    "Use the keywords `for` and `if` to select years that are in the 18th century. \n",
    "Note that, after `if`, you can combine multiple Boolean expressions using `and`.  "
   ]
  },
  {
   "cell_type": "code",
   "execution_count": 1,
   "metadata": {},
   "outputs": [
    {
     "name": "stdout",
     "output_type": "stream",
     "text": [
      "1756\n",
      "1791\n",
      "1714\n"
     ]
    }
   ],
   "source": [
    "years = [ 1756, 1575, 2002, 1984 ,1626 ,1791, 1714, 1873, 1991 ]\n",
    "\n",
    "for year in years:\n",
    "    if year >= 1700 and year < 1800:\n",
    "        print(year)"
   ]
  },
  {
   "cell_type": "markdown",
   "metadata": {},
   "source": [
    "## Exercise 5.6.\n",
    "\n",
    "Convert the following quotation from E.M. Forster’s *A Room with a View* to a list of words, using the `split()` method. This function can convert a string into a list, based on the spaces that occur in this string. Use this list to give information about the total number of words in this quote. Print the last word in teh quote, and count the number of occurrences of the word “place”.\n",
    "\n",
    "```quote = \"We cast a shadow on something wherever we stand, and it is no good moving from place to place to save things; because the shadow always follows. Choose a place where you won’t do harm - yes, choose a place where you won’t do very much harm, and stand in it for all you are worth, facing the sunshine.\"\n",
    "```"
   ]
  },
  {
   "cell_type": "code",
   "execution_count": 5,
   "metadata": {},
   "outputs": [
    {
     "name": "stdout",
     "output_type": "stream",
     "text": [
      "The quote contains 59 words.\n",
      "The last word is 'sunshine'.\n",
      "There are 4 occurrences of the word 'place'.\n"
     ]
    }
   ],
   "source": [
    "quote = \"We cast a shadow on something wherever we stand, and it is no good moving from place to place to save things; because the shadow always follows. Choose a place where you won’t do harm - yes, choose a place where you won’t do very much harm, and stand in it for all you are worth, facing the sunshine.\"\n",
    "\n",
    "words = quote.split(' ')\n",
    "print( f'The quote contains {len(words)} words.' ) \n",
    "\n",
    "print( f'The last word is \\'{words[-1].strip(\".\")}\\'.'  )\n",
    "\n",
    "count = 0\n",
    "\n",
    "for w in words:\n",
    "    if w.lower() == 'place':\n",
    "        count+= 1\n",
    "\n",
    "print( f\"There are {count} occurrences of the word 'place'.\")"
   ]
  },
  {
   "cell_type": "code",
   "execution_count": null,
   "metadata": {},
   "outputs": [],
   "source": []
  }
 ],
 "metadata": {
  "kernelspec": {
   "display_name": "Python 3 (ipykernel)",
   "language": "python",
   "name": "python3"
  },
  "language_info": {
   "codemirror_mode": {
    "name": "ipython",
    "version": 3
   },
   "file_extension": ".py",
   "mimetype": "text/x-python",
   "name": "python",
   "nbconvert_exporter": "python",
   "pygments_lexer": "ipython3",
   "version": "3.7.9"
  }
 },
 "nbformat": 4,
 "nbformat_minor": 2
}
