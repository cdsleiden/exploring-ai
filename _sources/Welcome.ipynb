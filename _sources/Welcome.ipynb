{
 "cells": [
  {
   "cell_type": "markdown",
   "id": "dd6154b4",
   "metadata": {},
   "source": [
    "## Welcome\n",
    "\n",
    "This website offers access to notebooks developed for the Digital Access to Textual Heritage course. "
   ]
  },
  {
   "cell_type": "markdown",
   "id": "37a6a1de",
   "metadata": {},
   "source": [
    "References to the notebooks on the DATH Notebooks website should follow the [MHRA guidelines for citing websites and social media](www.mhra.org.uk/style/chapter7.html#section_7_5). \n",
    "\n",
    "You can follow the example below. \n",
    "\n",
    "```\n",
    "Peter Verhaar, “Comparisons of Book clubs based on GoodReads data”, DATH Notebooks, 2024 <https://peterverhaar.github.io/dath_notebooks/Comparison_of_bookclubs.html>[accessed 26 May 2024].\n",
    "```"
   ]
  },
  {
   "cell_type": "code",
   "execution_count": null,
   "id": "e2aba867",
   "metadata": {},
   "outputs": [],
   "source": []
  }
 ],
 "metadata": {
  "kernelspec": {
   "display_name": "Python 3 (ipykernel)",
   "language": "python",
   "name": "python3"
  },
  "language_info": {
   "codemirror_mode": {
    "name": "ipython",
    "version": 3
   },
   "file_extension": ".py",
   "mimetype": "text/x-python",
   "name": "python",
   "nbconvert_exporter": "python",
   "pygments_lexer": "ipython3",
   "version": "3.7.9"
  }
 },
 "nbformat": 4,
 "nbformat_minor": 5
}
