{
 "cells": [
  {
   "cell_type": "markdown",
   "id": "dd6154b4",
   "metadata": {},
   "source": [
    "## Welcome\n",
    "\n",
    "This website offers access to notebooks developed for the Digital Access to Textual Heritage course. "
   ]
  },
  {
   "cell_type": "code",
   "execution_count": null,
   "id": "4c2cdc47",
   "metadata": {},
   "outputs": [],
   "source": []
  }
 ],
 "metadata": {
  "kernelspec": {
   "display_name": "Python 3 (ipykernel)",
   "language": "python",
   "name": "python3"
  },
  "language_info": {
   "codemirror_mode": {
    "name": "ipython",
    "version": 3
   },
   "file_extension": ".py",
   "mimetype": "text/x-python",
   "name": "python",
   "nbconvert_exporter": "python",
   "pygments_lexer": "ipython3",
   "version": "3.7.9"
  }
 },
 "nbformat": 4,
 "nbformat_minor": 5
}
